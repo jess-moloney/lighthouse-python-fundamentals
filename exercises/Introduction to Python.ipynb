{
 "cells": [
  {
   "cell_type": "markdown",
   "id": "36f2cb03-c39f-4565-ada1-1932e32c4f45",
   "metadata": {
    "jp-MarkdownHeadingCollapsed": true,
    "tags": []
   },
   "source": [
    "# Variable Assignment\n",
    "\n",
    "\n",
    "\n",
    "- standard variable assignment\n",
    "`n=100`\n",
    "- chained assignment\n",
    "`n=m=100`\n",
    "- multiple assignment\n",
    "`n,m=100,200`\n",
    "- variable types\n",
    "`type(n)`"
   ]
  },
  {
   "cell_type": "code",
   "execution_count": 2,
   "id": "97a231a9-0565-4793-8781-1f9c1ec68410",
   "metadata": {},
   "outputs": [],
   "source": [
    " n= 300"
   ]
  },
  {
   "cell_type": "code",
   "execution_count": 3,
   "id": "1b63be61-ecb1-47c2-84b7-e655e9cf5b77",
   "metadata": {},
   "outputs": [
    {
     "name": "stdout",
     "output_type": "stream",
     "text": [
      "300\n"
     ]
    }
   ],
   "source": [
    "print(n)"
   ]
  },
  {
   "cell_type": "code",
   "execution_count": 4,
   "id": "6ff2bbe0-9db3-4140-ac95-c22c359d36d8",
   "metadata": {},
   "outputs": [
    {
     "data": {
      "text/plain": [
       "300"
      ]
     },
     "execution_count": 4,
     "metadata": {},
     "output_type": "execute_result"
    }
   ],
   "source": [
    "n"
   ]
  },
  {
   "cell_type": "code",
   "execution_count": 5,
   "id": "93bd28f4-6270-4d93-9a3c-63f5d2d7a32d",
   "metadata": {},
   "outputs": [],
   "source": [
    "n=400"
   ]
  },
  {
   "cell_type": "code",
   "execution_count": 6,
   "id": "31bb2d3d-e314-49dc-821b-21d8da7529f1",
   "metadata": {},
   "outputs": [],
   "source": [
    "n=\"hello\""
   ]
  },
  {
   "cell_type": "code",
   "execution_count": 7,
   "id": "9eabf927-cb3a-4e6a-87cc-7ad25085d2b9",
   "metadata": {},
   "outputs": [
    {
     "data": {
      "text/plain": [
       "'hello'"
      ]
     },
     "execution_count": 7,
     "metadata": {},
     "output_type": "execute_result"
    }
   ],
   "source": [
    "n"
   ]
  },
  {
   "cell_type": "code",
   "execution_count": 8,
   "id": "f8be0c6a-5d77-48ef-942f-465b4974d172",
   "metadata": {},
   "outputs": [],
   "source": [
    "n=m=x=y=400"
   ]
  },
  {
   "cell_type": "code",
   "execution_count": 9,
   "id": "9806b12c-b8ae-4304-b7c4-c2db6a6ecc90",
   "metadata": {},
   "outputs": [
    {
     "data": {
      "text/plain": [
       "400"
      ]
     },
     "execution_count": 9,
     "metadata": {},
     "output_type": "execute_result"
    }
   ],
   "source": [
    "n"
   ]
  },
  {
   "cell_type": "code",
   "execution_count": 10,
   "id": "c7ce4c06-830d-462a-bff5-ea1b9c21520b",
   "metadata": {},
   "outputs": [
    {
     "data": {
      "text/plain": [
       "400"
      ]
     },
     "execution_count": 10,
     "metadata": {},
     "output_type": "execute_result"
    }
   ],
   "source": [
    "m"
   ]
  },
  {
   "cell_type": "code",
   "execution_count": 11,
   "id": "73d7b2d4-990b-4776-b983-f29b8c28e049",
   "metadata": {},
   "outputs": [
    {
     "data": {
      "text/plain": [
       "400"
      ]
     },
     "execution_count": 11,
     "metadata": {},
     "output_type": "execute_result"
    }
   ],
   "source": [
    "x"
   ]
  },
  {
   "cell_type": "code",
   "execution_count": 12,
   "id": "6f2b1ccf-e375-463e-afc0-fc6b6e55f139",
   "metadata": {},
   "outputs": [],
   "source": [
    "a,b =300,400"
   ]
  },
  {
   "cell_type": "code",
   "execution_count": 13,
   "id": "0e4dd333-31d9-41dd-8bcb-9a4d26a8f6e1",
   "metadata": {},
   "outputs": [
    {
     "data": {
      "text/plain": [
       "400"
      ]
     },
     "execution_count": 13,
     "metadata": {},
     "output_type": "execute_result"
    }
   ],
   "source": [
    "b"
   ]
  },
  {
   "cell_type": "code",
   "execution_count": 14,
   "id": "f0f57cb4-6eee-4f9f-bfe9-29e33bc7e3b9",
   "metadata": {},
   "outputs": [
    {
     "data": {
      "text/plain": [
       "300"
      ]
     },
     "execution_count": 14,
     "metadata": {},
     "output_type": "execute_result"
    }
   ],
   "source": [
    "a"
   ]
  },
  {
   "cell_type": "code",
   "execution_count": 15,
   "id": "76bcfedc-fd8e-4bb4-95d7-c24c69af2c62",
   "metadata": {},
   "outputs": [
    {
     "name": "stdout",
     "output_type": "stream",
     "text": [
      "\f",
      "\n"
     ]
    }
   ],
   "source": [
    "clear"
   ]
  },
  {
   "cell_type": "code",
   "execution_count": 16,
   "id": "2cf8c05c-deed-404e-bdcf-cd2952b40c6b",
   "metadata": {},
   "outputs": [],
   "source": [
    "n=300"
   ]
  },
  {
   "cell_type": "code",
   "execution_count": 17,
   "id": "52b65407-4996-4186-b6c5-64c16da8dc6c",
   "metadata": {},
   "outputs": [
    {
     "data": {
      "text/plain": [
       "int"
      ]
     },
     "execution_count": 17,
     "metadata": {},
     "output_type": "execute_result"
    }
   ],
   "source": [
    "type(n)"
   ]
  },
  {
   "cell_type": "code",
   "execution_count": 18,
   "id": "c15248ae-b889-422e-a86c-1b7d34d5babc",
   "metadata": {},
   "outputs": [],
   "source": [
    "n=\"hello\""
   ]
  },
  {
   "cell_type": "code",
   "execution_count": 19,
   "id": "e6cbbb52-4af4-44e7-a162-ee400078f458",
   "metadata": {},
   "outputs": [
    {
     "data": {
      "text/plain": [
       "str"
      ]
     },
     "execution_count": 19,
     "metadata": {},
     "output_type": "execute_result"
    }
   ],
   "source": [
    "type(n)"
   ]
  },
  {
   "cell_type": "code",
   "execution_count": 20,
   "id": "a6122d3d-269d-44d9-87b1-53d3e81a12cf",
   "metadata": {},
   "outputs": [],
   "source": [
    "n=300"
   ]
  },
  {
   "cell_type": "code",
   "execution_count": 21,
   "id": "d3d7f274-b1ca-4d0e-8587-bd95e5146eb9",
   "metadata": {},
   "outputs": [],
   "source": [
    "n=m"
   ]
  },
  {
   "cell_type": "code",
   "execution_count": 22,
   "id": "06a64ec3-8271-4b69-8ab9-864dcfce0548",
   "metadata": {},
   "outputs": [
    {
     "data": {
      "text/plain": [
       "400"
      ]
     },
     "execution_count": 22,
     "metadata": {},
     "output_type": "execute_result"
    }
   ],
   "source": [
    "m"
   ]
  },
  {
   "cell_type": "code",
   "execution_count": 23,
   "id": "e9ef80c3-9927-42c3-bc16-30d5d5f4e31b",
   "metadata": {},
   "outputs": [],
   "source": [
    "n=m=300"
   ]
  },
  {
   "cell_type": "code",
   "execution_count": 24,
   "id": "f958a359-29cc-4e27-bb2c-0248df8155a2",
   "metadata": {},
   "outputs": [
    {
     "data": {
      "text/plain": [
       "300"
      ]
     },
     "execution_count": 24,
     "metadata": {},
     "output_type": "execute_result"
    }
   ],
   "source": [
    "m"
   ]
  },
  {
   "cell_type": "code",
   "execution_count": 25,
   "id": "838605b7-47f5-4add-946a-23d3d385e715",
   "metadata": {},
   "outputs": [
    {
     "data": {
      "text/plain": [
       "300"
      ]
     },
     "execution_count": 25,
     "metadata": {},
     "output_type": "execute_result"
    }
   ],
   "source": [
    "n"
   ]
  },
  {
   "cell_type": "code",
   "execution_count": 26,
   "id": "988b7e2d-ce95-44ce-90f9-521f265acc81",
   "metadata": {},
   "outputs": [],
   "source": [
    "m=400"
   ]
  },
  {
   "cell_type": "code",
   "execution_count": 27,
   "id": "5ca9ed23-5923-4245-a136-b759a4372f9b",
   "metadata": {},
   "outputs": [
    {
     "data": {
      "text/plain": [
       "300"
      ]
     },
     "execution_count": 27,
     "metadata": {},
     "output_type": "execute_result"
    }
   ],
   "source": [
    "n"
   ]
  },
  {
   "cell_type": "code",
   "execution_count": 28,
   "id": "6d5a1fa5-ea35-4dda-80c9-59cba2951264",
   "metadata": {},
   "outputs": [],
   "source": [
    "n=\"foo\""
   ]
  },
  {
   "cell_type": "code",
   "execution_count": 29,
   "id": "32ff4640-9198-4d92-bd6f-2b014e895f19",
   "metadata": {},
   "outputs": [
    {
     "data": {
      "text/plain": [
       "400"
      ]
     },
     "execution_count": 29,
     "metadata": {},
     "output_type": "execute_result"
    }
   ],
   "source": [
    "m"
   ]
  },
  {
   "cell_type": "code",
   "execution_count": 30,
   "id": "5828c3e8-ffc8-45b0-8a61-d2d64258d7b8",
   "metadata": {},
   "outputs": [
    {
     "data": {
      "text/plain": [
       "'foo'"
      ]
     },
     "execution_count": 30,
     "metadata": {},
     "output_type": "execute_result"
    }
   ],
   "source": [
    "n"
   ]
  },
  {
   "cell_type": "code",
   "execution_count": 31,
   "id": "a57bf9cf-984b-4a47-86fd-cd47ef878951",
   "metadata": {},
   "outputs": [],
   "source": [
    "n=300\n",
    "m=400"
   ]
  },
  {
   "cell_type": "code",
   "execution_count": 32,
   "id": "c6c0087f-d1be-4d26-869e-489e91de8778",
   "metadata": {},
   "outputs": [
    {
     "data": {
      "text/plain": [
       "300"
      ]
     },
     "execution_count": 32,
     "metadata": {},
     "output_type": "execute_result"
    }
   ],
   "source": [
    "n"
   ]
  },
  {
   "cell_type": "markdown",
   "id": "1d466c16-77bf-425b-88aa-41271d7dbfd6",
   "metadata": {
    "jp-MarkdownHeadingCollapsed": true,
    "tags": []
   },
   "source": [
    "# Object Identity"
   ]
  },
  {
   "cell_type": "code",
   "execution_count": 33,
   "id": "36e93dfc-8d84-4239-ba12-7ca510c41f0f",
   "metadata": {},
   "outputs": [
    {
     "data": {
      "text/plain": [
       "3008643368112"
      ]
     },
     "execution_count": 33,
     "metadata": {},
     "output_type": "execute_result"
    }
   ],
   "source": [
    "id(n)"
   ]
  },
  {
   "cell_type": "code",
   "execution_count": 34,
   "id": "8af7f6d4-5e68-48f7-8e34-db4481e86d3a",
   "metadata": {},
   "outputs": [],
   "source": [
    "n=300"
   ]
  },
  {
   "cell_type": "code",
   "execution_count": 35,
   "id": "4f390eb2-a503-46e9-a42d-59bbe181197a",
   "metadata": {},
   "outputs": [],
   "source": [
    "m=300"
   ]
  },
  {
   "cell_type": "code",
   "execution_count": 36,
   "id": "20360887-e1e3-4209-9afc-f875f1173f9c",
   "metadata": {},
   "outputs": [
    {
     "data": {
      "text/plain": [
       "3008643367472"
      ]
     },
     "execution_count": 36,
     "metadata": {},
     "output_type": "execute_result"
    }
   ],
   "source": [
    "id(n)"
   ]
  },
  {
   "cell_type": "code",
   "execution_count": 37,
   "id": "9fd4779d-661d-4182-bcbf-b443dea5cad4",
   "metadata": {},
   "outputs": [
    {
     "data": {
      "text/plain": [
       "3008643368400"
      ]
     },
     "execution_count": 37,
     "metadata": {},
     "output_type": "execute_result"
    }
   ],
   "source": [
    "id(m)"
   ]
  },
  {
   "cell_type": "code",
   "execution_count": 38,
   "id": "f52a3076-0b96-4e50-8472-c9c2f040a281",
   "metadata": {},
   "outputs": [
    {
     "data": {
      "text/plain": [
       "True"
      ]
     },
     "execution_count": 38,
     "metadata": {},
     "output_type": "execute_result"
    }
   ],
   "source": [
    "n==m"
   ]
  },
  {
   "cell_type": "code",
   "execution_count": 39,
   "id": "b2c4ce5d-fda4-4246-8d57-7a0b965220ef",
   "metadata": {},
   "outputs": [
    {
     "data": {
      "text/plain": [
       "False"
      ]
     },
     "execution_count": 39,
     "metadata": {},
     "output_type": "execute_result"
    }
   ],
   "source": [
    "id(n)==id(m)"
   ]
  },
  {
   "cell_type": "markdown",
   "id": "dd93379f-8e53-4efb-a2e6-7bd1e6952ad0",
   "metadata": {
    "jp-MarkdownHeadingCollapsed": true,
    "tags": []
   },
   "source": [
    "# Reserved Words"
   ]
  },
  {
   "cell_type": "code",
   "execution_count": 40,
   "id": "362cbc28-d83f-4662-a2b2-a60f25a67dee",
   "metadata": {},
   "outputs": [
    {
     "name": "stdout",
     "output_type": "stream",
     "text": [
      "\n",
      "Here is a list of the Python keywords.  Enter any keyword to get more help.\n",
      "\n",
      "False               break               for                 not\n",
      "None                class               from                or\n",
      "True                continue            global              pass\n",
      "__peg_parser__      def                 if                  raise\n",
      "and                 del                 import              return\n",
      "as                  elif                in                  try\n",
      "assert              else                is                  while\n",
      "async               except              lambda              with\n",
      "await               finally             nonlocal            yield\n",
      "\n"
     ]
    }
   ],
   "source": [
    "help(\"keywords\")"
   ]
  },
  {
   "cell_type": "code",
   "execution_count": 41,
   "id": "4bfe0f7f-c052-4a20-b1fa-0dfa69f5dd4b",
   "metadata": {},
   "outputs": [
    {
     "ename": "SyntaxError",
     "evalue": "invalid syntax (3515175545.py, line 1)",
     "output_type": "error",
     "traceback": [
      "\u001b[1;36m  Input \u001b[1;32mIn [41]\u001b[1;36m\u001b[0m\n\u001b[1;33m    hello, world!\u001b[0m\n\u001b[1;37m                ^\u001b[0m\n\u001b[1;31mSyntaxError\u001b[0m\u001b[1;31m:\u001b[0m invalid syntax\n"
     ]
    }
   ],
   "source": [
    "hello, world!"
   ]
  },
  {
   "cell_type": "markdown",
   "id": "39adfe06-d7a7-41ad-92b4-459b3b62eaed",
   "metadata": {
    "jp-MarkdownHeadingCollapsed": true,
    "tags": []
   },
   "source": [
    "# Strings"
   ]
  },
  {
   "cell_type": "code",
   "execution_count": null,
   "id": "49853d79-9145-454b-83c3-559f24e0605e",
   "metadata": {},
   "outputs": [],
   "source": [
    "\"Hello World\""
   ]
  },
  {
   "cell_type": "code",
   "execution_count": null,
   "id": "34c90702-75fb-4e0a-88ea-304a509d7283",
   "metadata": {},
   "outputs": [],
   "source": [
    "2+2"
   ]
  },
  {
   "cell_type": "code",
   "execution_count": null,
   "id": "cb6eb5ac-7a10-4a99-8ee2-48431bb0465f",
   "metadata": {},
   "outputs": [],
   "source": [
    "\"2+2\""
   ]
  },
  {
   "cell_type": "code",
   "execution_count": null,
   "id": "9895ccf7-2fc3-4172-b405-6917fedd9e6f",
   "metadata": {},
   "outputs": [],
   "source": [
    "print('She asked, \"Can\\'t we just leave?\" If only it was that simple.')"
   ]
  },
  {
   "cell_type": "markdown",
   "id": "fa12b1bf-c4f3-4d58-930c-303ccc0805b3",
   "metadata": {
    "jp-MarkdownHeadingCollapsed": true,
    "tags": []
   },
   "source": [
    "# String Operators"
   ]
  },
  {
   "cell_type": "code",
   "execution_count": null,
   "id": "d21c2724-1b40-4341-bf33-37c8e8bc91d2",
   "metadata": {},
   "outputs": [],
   "source": [
    "s = 'spam'"
   ]
  },
  {
   "cell_type": "code",
   "execution_count": null,
   "id": "fc0bb225-6d3c-41e5-8e5e-001c1ea86741",
   "metadata": {},
   "outputs": [],
   "source": [
    "t = 'egg'"
   ]
  },
  {
   "cell_type": "code",
   "execution_count": null,
   "id": "8e228d36-9344-4a68-a956-e31ccbcae949",
   "metadata": {},
   "outputs": [],
   "source": [
    "u = 'bacon'"
   ]
  },
  {
   "cell_type": "code",
   "execution_count": null,
   "id": "dfd355e4-1bc0-4c3f-bbde-7c07445434f1",
   "metadata": {},
   "outputs": [],
   "source": [
    "s+t"
   ]
  },
  {
   "cell_type": "code",
   "execution_count": null,
   "id": "b1bd1405-7f75-4543-980d-885e4acc32e5",
   "metadata": {},
   "outputs": [],
   "source": [
    "s+t+u"
   ]
  },
  {
   "cell_type": "code",
   "execution_count": null,
   "id": "8b332028-9d72-4a1d-844a-766c36a12b3e",
   "metadata": {},
   "outputs": [],
   "source": [
    "n=2"
   ]
  },
  {
   "cell_type": "code",
   "execution_count": null,
   "id": "49175c84-f8a7-4727-a40a-984d2c82fd48",
   "metadata": {},
   "outputs": [],
   "source": [
    "s*n"
   ]
  },
  {
   "cell_type": "code",
   "execution_count": null,
   "id": "e18fc0ff-6348-4bb3-9a4f-cde5cb8f767a",
   "metadata": {},
   "outputs": [],
   "source": [
    "n=8"
   ]
  },
  {
   "cell_type": "code",
   "execution_count": null,
   "id": "353e53e9-2f24-444f-ac8d-9de16257603a",
   "metadata": {},
   "outputs": [],
   "source": [
    "s*n"
   ]
  },
  {
   "cell_type": "code",
   "execution_count": null,
   "id": "da24d282-0b5d-4972-859d-119cc7665503",
   "metadata": {},
   "outputs": [],
   "source": [
    " s='spam'"
   ]
  },
  {
   "cell_type": "code",
   "execution_count": null,
   "id": "214bdfe2-40a5-44cd-b183-4e76d9a69bc2",
   "metadata": {},
   "outputs": [],
   "source": [
    "s in 'I saw spamalot!'"
   ]
  },
  {
   "cell_type": "markdown",
   "id": "23d9d7da-d442-465b-8e75-ea504a0bf47e",
   "metadata": {
    "jp-MarkdownHeadingCollapsed": true,
    "tags": []
   },
   "source": [
    "# Built-in String Operators\n",
    "\n",
    "- `chr()`\n",
    "- `ord()`\n",
    "- `len()`\n",
    "- `str()`\n",
    "\n",
    "*italic*\n",
    "\n",
    "**bold**"
   ]
  },
  {
   "cell_type": "code",
   "execution_count": null,
   "id": "1e0019cd-6954-4b15-910e-9f10680d8675",
   "metadata": {},
   "outputs": [],
   "source": [
    "ord('a')"
   ]
  },
  {
   "cell_type": "code",
   "execution_count": null,
   "id": "35757ef2-a78c-4201-9413-575e4f9339c5",
   "metadata": {},
   "outputs": [],
   "source": [
    "ord(' ')"
   ]
  },
  {
   "cell_type": "code",
   "execution_count": null,
   "id": "d297922b-da66-4a37-b3b1-d20f998d1c9a",
   "metadata": {},
   "outputs": [],
   "source": [
    "ord('#')"
   ]
  },
  {
   "cell_type": "code",
   "execution_count": null,
   "id": "44d86cb8-469b-4fca-8e40-b2f500d9286f",
   "metadata": {},
   "outputs": [],
   "source": [
    "chr(97)"
   ]
  },
  {
   "cell_type": "code",
   "execution_count": null,
   "id": "bce7e11d-cca0-491b-bcb5-9699a36d819f",
   "metadata": {},
   "outputs": [],
   "source": [
    "s = 'I am a string'\n",
    "len(s)"
   ]
  },
  {
   "cell_type": "code",
   "execution_count": null,
   "id": "8cccb2e0-495f-434d-a160-28cffa8ec8f9",
   "metadata": {},
   "outputs": [],
   "source": [
    "str(49.2)"
   ]
  },
  {
   "cell_type": "code",
   "execution_count": null,
   "id": "df2fbc46-5fbf-463b-982f-4b079924050f",
   "metadata": {},
   "outputs": [],
   "source": [
    "str(3+29)"
   ]
  },
  {
   "cell_type": "markdown",
   "id": "06974d39-849f-4645-8a70-08c004ce1f4e",
   "metadata": {
    "jp-MarkdownHeadingCollapsed": true,
    "tags": []
   },
   "source": [
    "# String Indexing"
   ]
  },
  {
   "cell_type": "code",
   "execution_count": null,
   "id": "60ca0523-aca8-401d-8eb5-d6ee90488d16",
   "metadata": {},
   "outputs": [],
   "source": [
    "s='mybacon'"
   ]
  },
  {
   "cell_type": "code",
   "execution_count": null,
   "id": "f9feab2e-952f-4766-b228-cc5bac8cd8ed",
   "metadata": {},
   "outputs": [],
   "source": [
    "s[0]"
   ]
  },
  {
   "cell_type": "code",
   "execution_count": null,
   "id": "72718be2-70ed-4d25-8da5-a7a5a70dcffb",
   "metadata": {},
   "outputs": [],
   "source": [
    "s[1]"
   ]
  },
  {
   "cell_type": "code",
   "execution_count": null,
   "id": "2734e6d3-709d-4ea6-9533-80f13caf57da",
   "metadata": {},
   "outputs": [],
   "source": [
    "s[len(s)-1]"
   ]
  },
  {
   "cell_type": "code",
   "execution_count": null,
   "id": "85ad895b-40c4-4685-8f64-7b0a51e30749",
   "metadata": {},
   "outputs": [],
   "source": [
    "s[-1]"
   ]
  },
  {
   "cell_type": "code",
   "execution_count": null,
   "id": "8b212ded-7826-49e7-ae0e-7f697476fea9",
   "metadata": {},
   "outputs": [],
   "source": [
    "s[-len(s)]"
   ]
  },
  {
   "cell_type": "markdown",
   "id": "b37f86d5-2d44-4b52-a230-d2fd71c42dfe",
   "metadata": {
    "jp-MarkdownHeadingCollapsed": true,
    "tags": []
   },
   "source": [
    "# String Slicing"
   ]
  },
  {
   "cell_type": "code",
   "execution_count": null,
   "id": "64e54777-51ed-44a1-93d6-87592a7d0051",
   "metadata": {},
   "outputs": [],
   "source": [
    "s[2:5]"
   ]
  },
  {
   "cell_type": "code",
   "execution_count": null,
   "id": "c6805788-2bd9-44ba-bd85-b16d3ff3c147",
   "metadata": {},
   "outputs": [],
   "source": [
    "s[2:7]"
   ]
  },
  {
   "cell_type": "code",
   "execution_count": null,
   "id": "4ed23159-43ef-4b6f-aa33-ec6c025db584",
   "metadata": {},
   "outputs": [],
   "source": [
    "s[0:2]"
   ]
  },
  {
   "cell_type": "code",
   "execution_count": null,
   "id": "23d2c55c-8139-4e0e-849e-e349ea55dcbe",
   "metadata": {},
   "outputs": [],
   "source": [
    "s[:2]"
   ]
  },
  {
   "cell_type": "code",
   "execution_count": null,
   "id": "ab234f65-38de-42c4-bc1b-af0c5df3b5a7",
   "metadata": {},
   "outputs": [],
   "source": [
    "s[2:]"
   ]
  },
  {
   "cell_type": "code",
   "execution_count": null,
   "id": "f03e8a9a-9b10-4ab9-bc08-c5a3a1e988cf",
   "metadata": {},
   "outputs": [],
   "source": [
    "s[2:len(s)]"
   ]
  },
  {
   "cell_type": "code",
   "execution_count": null,
   "id": "eca0819d-1815-4c9d-a13c-5811994532ec",
   "metadata": {},
   "outputs": [],
   "source": [
    "S[:2]+s[2:]"
   ]
  },
  {
   "cell_type": "code",
   "execution_count": null,
   "id": "a32fe463-c0c4-41a5-b607-6e735f3e3bd2",
   "metadata": {},
   "outputs": [],
   "source": [
    "s[:2]+s[2:]"
   ]
  },
  {
   "cell_type": "code",
   "execution_count": null,
   "id": "9b2e5f6d-7e9c-4a9d-b379-a8af1b11b1a5",
   "metadata": {},
   "outputs": [],
   "source": [
    "t=s[:]"
   ]
  },
  {
   "cell_type": "code",
   "execution_count": null,
   "id": "f62ecbfc-edea-4f52-808c-d1f1305ec1d2",
   "metadata": {},
   "outputs": [],
   "source": [
    "t"
   ]
  },
  {
   "cell_type": "code",
   "execution_count": null,
   "id": "382db246-062f-4952-b636-ea4c8def8714",
   "metadata": {},
   "outputs": [],
   "source": [
    "id(s)==id(t)"
   ]
  },
  {
   "cell_type": "code",
   "execution_count": null,
   "id": "6cc51b99-886c-4251-9a53-77514f267d59",
   "metadata": {},
   "outputs": [],
   "source": [
    "s==t"
   ]
  },
  {
   "cell_type": "code",
   "execution_count": null,
   "id": "d10eea7c-7c36-4a21-93a3-b1986b528508",
   "metadata": {},
   "outputs": [],
   "source": [
    "s is t"
   ]
  },
  {
   "cell_type": "code",
   "execution_count": null,
   "id": "381db127-0ae0-4273-8348-0804919fc2a3",
   "metadata": {},
   "outputs": [],
   "source": [
    "s[2:2]"
   ]
  },
  {
   "cell_type": "code",
   "execution_count": null,
   "id": "58216ae8-6fde-4f27-8616-46f206b56c89",
   "metadata": {},
   "outputs": [],
   "source": [
    "s[4:2]"
   ]
  },
  {
   "cell_type": "code",
   "execution_count": null,
   "id": "77d403c4-03ec-48a0-b766-2f341ad0f660",
   "metadata": {},
   "outputs": [],
   "source": [
    "S[:7]"
   ]
  },
  {
   "cell_type": "code",
   "execution_count": null,
   "id": "267ddfd1-3e54-4005-8ece-32d058ef5c9f",
   "metadata": {},
   "outputs": [],
   "source": [
    "s[:7]"
   ]
  },
  {
   "cell_type": "code",
   "execution_count": null,
   "id": "11f1c04b-6562-4e59-90cc-af2fe3a7d8c9",
   "metadata": {},
   "outputs": [],
   "source": [
    "s[:6]"
   ]
  },
  {
   "cell_type": "code",
   "execution_count": null,
   "id": "9b9a7a2b-be05-46dd-8fe0-179e754ff11e",
   "metadata": {},
   "outputs": [],
   "source": [
    "S[:::]"
   ]
  },
  {
   "cell_type": "code",
   "execution_count": null,
   "id": "b483a102-babf-432b-a027-83ca8d265f02",
   "metadata": {},
   "outputs": [],
   "source": [
    "s[::1]"
   ]
  },
  {
   "cell_type": "code",
   "execution_count": null,
   "id": "ad6ce3be-6719-4b96-abbd-79ee9b8a73e0",
   "metadata": {},
   "outputs": [],
   "source": [
    "s[::2]"
   ]
  },
  {
   "cell_type": "code",
   "execution_count": null,
   "id": "ff305ce1-2df0-48f2-a31e-933af1d73aa5",
   "metadata": {},
   "outputs": [],
   "source": [
    "S[0:7:2]"
   ]
  },
  {
   "cell_type": "code",
   "execution_count": null,
   "id": "cd629224-78b8-431e-ab1f-ed7d185e66f1",
   "metadata": {},
   "outputs": [],
   "source": [
    "s[0:7:2]"
   ]
  },
  {
   "cell_type": "code",
   "execution_count": null,
   "id": "7f892b1e-3b36-4f70-bf4c-8bf0328543d9",
   "metadata": {},
   "outputs": [],
   "source": [
    "s[1:7:2]"
   ]
  },
  {
   "cell_type": "code",
   "execution_count": null,
   "id": "34894d50-5bed-4d06-94b2-68a7f0b495e4",
   "metadata": {},
   "outputs": [],
   "source": [
    "s='12345'*5"
   ]
  },
  {
   "cell_type": "code",
   "execution_count": null,
   "id": "3f99ab0f-95bf-4f17-856a-89bc30f4229e",
   "metadata": {},
   "outputs": [],
   "source": [
    "s"
   ]
  },
  {
   "cell_type": "code",
   "execution_count": null,
   "id": "4d22ace7-61c0-43ea-b42d-110df33beccb",
   "metadata": {},
   "outputs": [],
   "source": [
    "s[::5]"
   ]
  },
  {
   "cell_type": "code",
   "execution_count": null,
   "id": "2faa8ac8-0374-40cb-90b6-b18cf9677321",
   "metadata": {},
   "outputs": [],
   "source": [
    "S[4::5]"
   ]
  },
  {
   "cell_type": "code",
   "execution_count": null,
   "id": "5037a5bb-8b4d-44db-9498-9e7b9cd73f8e",
   "metadata": {},
   "outputs": [],
   "source": [
    "s[4::5]"
   ]
  },
  {
   "cell_type": "code",
   "execution_count": null,
   "id": "a66cb534-4bf4-4054-ae46-16d2ac4269f0",
   "metadata": {},
   "outputs": [],
   "source": [
    "s[::-5]"
   ]
  },
  {
   "cell_type": "code",
   "execution_count": null,
   "id": "bb2be074-008b-4265-9f3c-ac51ef4a92c1",
   "metadata": {},
   "outputs": [],
   "source": [
    "s[::-1]"
   ]
  },
  {
   "cell_type": "code",
   "execution_count": null,
   "id": "7ad8a88f-c3a2-4e97-b7db-41a57447e680",
   "metadata": {},
   "outputs": [],
   "source": [
    "s='mybacon'"
   ]
  },
  {
   "cell_type": "code",
   "execution_count": null,
   "id": "da61d686-beeb-451b-83c9-50e4c978d00d",
   "metadata": {},
   "outputs": [],
   "source": [
    "s[::-1]"
   ]
  },
  {
   "cell_type": "code",
   "execution_count": null,
   "id": "f4bca8e4-83c8-4d6e-bb3a-2035efcb8fb7",
   "metadata": {},
   "outputs": [],
   "source": [
    "s[::-2]"
   ]
  },
  {
   "cell_type": "code",
   "execution_count": null,
   "id": "d6c39525-9c56-4bbe-a7c0-407636c25ce8",
   "metadata": {},
   "outputs": [],
   "source": [
    "s[1::-2]"
   ]
  },
  {
   "cell_type": "code",
   "execution_count": null,
   "id": "9856eeb1-de86-46ff-ba34-1e6b9ce7c3ea",
   "metadata": {},
   "outputs": [],
   "source": [
    "s[-7::-2]"
   ]
  },
  {
   "cell_type": "code",
   "execution_count": null,
   "id": "310b4a81-ea6a-4d29-ba66-ff3f4e0cd574",
   "metadata": {},
   "outputs": [],
   "source": [
    "s[5::-2]"
   ]
  },
  {
   "cell_type": "code",
   "execution_count": null,
   "id": "b84bfa10-53a6-46a4-8079-e8a24f024946",
   "metadata": {},
   "outputs": [],
   "source": [
    "s='tacocat'\n",
    "s==s[::-1]"
   ]
  },
  {
   "cell_type": "code",
   "execution_count": null,
   "id": "5cbf2bd1-c03b-4587-802c-01992737a1f9",
   "metadata": {},
   "outputs": [],
   "source": [
    "s='foobar'"
   ]
  },
  {
   "cell_type": "code",
   "execution_count": null,
   "id": "7ba93142-3554-4108-9182-17b47fed05ad",
   "metadata": {},
   "outputs": [],
   "source": [
    "s[0:6:2]"
   ]
  },
  {
   "cell_type": "code",
   "execution_count": null,
   "id": "29980d7b-903c-423d-bd21-bf944b9ec038",
   "metadata": {},
   "outputs": [],
   "source": [
    "s[1:6:2]"
   ]
  },
  {
   "cell_type": "code",
   "execution_count": null,
   "id": "faeee16f-10bb-4ab0-85a6-d286fc78c8f2",
   "metadata": {},
   "outputs": [],
   "source": [
    "s[5:0:-2]"
   ]
  },
  {
   "cell_type": "code",
   "execution_count": null,
   "id": "7ec64a52-d4ea-4700-af1d-66392799708e",
   "metadata": {},
   "outputs": [],
   "source": [
    "s='mybacon'\n",
    "s[6:0:-2]"
   ]
  },
  {
   "cell_type": "code",
   "execution_count": null,
   "id": "dbefff15-07bb-4184-8195-0ec85facc471",
   "metadata": {},
   "outputs": [],
   "source": [
    "s[6::-2]"
   ]
  },
  {
   "cell_type": "markdown",
   "id": "31a06927-2d78-4acf-a0a0-991ba9ed804c",
   "metadata": {
    "jp-MarkdownHeadingCollapsed": true,
    "tags": []
   },
   "source": [
    "# F-Strings"
   ]
  },
  {
   "cell_type": "code",
   "execution_count": null,
   "id": "a45795a2-f248-4510-926e-1fd595c84b67",
   "metadata": {},
   "outputs": [],
   "source": [
    "n=20\n",
    "m=25\n",
    "prod=n*m\n",
    "print(f'The product of {n} and {m} is {prod}')"
   ]
  },
  {
   "cell_type": "markdown",
   "id": "6ec80ac1-0934-4267-a663-ff3e5863d693",
   "metadata": {
    "jp-MarkdownHeadingCollapsed": true,
    "tags": []
   },
   "source": [
    "# Modifying Strings"
   ]
  },
  {
   "cell_type": "code",
   "execution_count": null,
   "id": "8872b46c-c46c-491a-ad1b-05f99f799e36",
   "metadata": {},
   "outputs": [],
   "source": [
    "s=s[:3] +'x' +s[4:]"
   ]
  },
  {
   "cell_type": "code",
   "execution_count": null,
   "id": "824bdb85-cb1c-4cf1-990c-5d5f32118f8f",
   "metadata": {},
   "outputs": [],
   "source": [
    "s"
   ]
  },
  {
   "cell_type": "code",
   "execution_count": null,
   "id": "60247f55-7978-4dbb-8d43-d97e2ce8562f",
   "metadata": {},
   "outputs": [],
   "source": [
    "s=s.replace('b','t')\n",
    "s"
   ]
  },
  {
   "cell_type": "markdown",
   "id": "f46142f9-ee02-456d-967d-f3170de1196c",
   "metadata": {
    "tags": []
   },
   "source": [
    "# Built-In String Methods"
   ]
  },
  {
   "cell_type": "code",
   "execution_count": null,
   "id": "9fd1d1a0-f547-42d9-91a8-69ea7fc64f6a",
   "metadata": {},
   "outputs": [],
   "source": [
    "'mybacon'.uppercase()"
   ]
  },
  {
   "cell_type": "code",
   "execution_count": null,
   "id": "f175b979-563f-4d6a-8851-a34f56ea1908",
   "metadata": {},
   "outputs": [],
   "source": [
    "'mybacon'.upper()"
   ]
  },
  {
   "cell_type": "code",
   "execution_count": null,
   "id": "cd94d951-c466-4e2b-a825-3b325a6fe624",
   "metadata": {},
   "outputs": [],
   "source": [
    "'MYBACON'.lower"
   ]
  },
  {
   "cell_type": "code",
   "execution_count": null,
   "id": "9f2a35ec-62ac-403a-9c3c-6b2ae229f409",
   "metadata": {},
   "outputs": [],
   "source": [
    "'MYBACON'.lower()"
   ]
  },
  {
   "cell_type": "code",
   "execution_count": null,
   "id": "df3131a6-9f19-4986-970c-7e14bc8fd2a7",
   "metadata": {},
   "outputs": [],
   "source": [
    "'mybacon'.title()"
   ]
  },
  {
   "cell_type": "code",
   "execution_count": null,
   "id": "83fbd71b-03ef-4f72-af55-fe833205bd36",
   "metadata": {},
   "outputs": [],
   "source": [
    "'MyBacon'.swapcase()"
   ]
  },
  {
   "cell_type": "code",
   "execution_count": null,
   "id": "0d27aa82-8191-4a0d-a2d5-f3ddccb31074",
   "metadata": {},
   "outputs": [],
   "source": [
    "'mybacon'.capitalize()"
   ]
  },
  {
   "cell_type": "code",
   "execution_count": null,
   "id": "0f4d4898-04de-4603-a992-8b26fa240f34",
   "metadata": {},
   "outputs": [],
   "source": [
    "s"
   ]
  },
  {
   "cell_type": "code",
   "execution_count": null,
   "id": "04a2d780-56b2-4297-bcf2-d5e22bd26b7d",
   "metadata": {},
   "outputs": [],
   "source": [
    "s='mybacon'"
   ]
  },
  {
   "cell_type": "code",
   "execution_count": null,
   "id": "b577afd8-c684-4e2d-87c2-7d3f738ca533",
   "metadata": {},
   "outputs": [],
   "source": [
    "s"
   ]
  },
  {
   "cell_type": "code",
   "execution_count": null,
   "id": "ea06318e-68f7-4062-9f5e-c43e4dacc460",
   "metadata": {},
   "outputs": [],
   "source": [
    "s[0:len(s)]"
   ]
  },
  {
   "cell_type": "code",
   "execution_count": null,
   "id": "84971bde-50ea-4d01-a3ae-e88ce835f231",
   "metadata": {},
   "outputs": [],
   "source": [
    "s[0:7]"
   ]
  },
  {
   "cell_type": "code",
   "execution_count": null,
   "id": "7225c76f-c417-4363-8e21-db6ba26ae749",
   "metadata": {},
   "outputs": [],
   "source": [
    "S[0:8]"
   ]
  },
  {
   "cell_type": "code",
   "execution_count": null,
   "id": "b252ccff-426e-432d-a749-0867e1342924",
   "metadata": {},
   "outputs": [],
   "source": [
    "s[0:8]"
   ]
  },
  {
   "cell_type": "code",
   "execution_count": null,
   "id": "9740532f-d6ab-4a25-8205-5a150d5306ce",
   "metadata": {},
   "outputs": [],
   "source": [
    "s[0:100]"
   ]
  },
  {
   "cell_type": "code",
   "execution_count": null,
   "id": "d50f7463-a29f-491b-b16e-b88328a05152",
   "metadata": {},
   "outputs": [],
   "source": [
    "s[0:-len(s)]"
   ]
  },
  {
   "cell_type": "code",
   "execution_count": null,
   "id": "a2793aff-b922-48bd-b3e2-f59f8f74515c",
   "metadata": {},
   "outputs": [],
   "source": [
    "s[-1:-len(s)]"
   ]
  },
  {
   "cell_type": "code",
   "execution_count": null,
   "id": "5e3cfb64-170c-4bfc-a7b2-c51671bbee46",
   "metadata": {},
   "outputs": [],
   "source": [
    "s[-1:-7]"
   ]
  },
  {
   "cell_type": "code",
   "execution_count": null,
   "id": "ca75be66-5f0f-44db-93fe-9acf2606df4f",
   "metadata": {},
   "outputs": [],
   "source": [
    "s[0:6]"
   ]
  },
  {
   "cell_type": "code",
   "execution_count": null,
   "id": "f06e4480-fa54-4c16-8848-992a2859bfc6",
   "metadata": {},
   "outputs": [],
   "source": [
    "s[-len(s)]"
   ]
  },
  {
   "cell_type": "code",
   "execution_count": null,
   "id": "dfb5414e-c56b-4c73-a5d8-b11a392cd29f",
   "metadata": {},
   "outputs": [],
   "source": [
    "s[0:-len(s):-1]"
   ]
  },
  {
   "cell_type": "code",
   "execution_count": null,
   "id": "3faaab44-af32-4da5-b66c-30b6443de576",
   "metadata": {},
   "outputs": [],
   "source": [
    "s[::-1]"
   ]
  },
  {
   "cell_type": "code",
   "execution_count": null,
   "id": "e2a0d97d-7c83-4f83-ad7b-df9a8265c9d9",
   "metadata": {},
   "outputs": [],
   "source": [
    "s[1:7]"
   ]
  },
  {
   "cell_type": "code",
   "execution_count": null,
   "id": "0e855ce1-477b-49e7-b67c-95701584a4f9",
   "metadata": {},
   "outputs": [],
   "source": [
    "s[-7:-1]"
   ]
  },
  {
   "cell_type": "code",
   "execution_count": null,
   "id": "19bede08-5fa5-4891-83ac-821b00e1944d",
   "metadata": {},
   "outputs": [],
   "source": [
    "s[-7:0]"
   ]
  },
  {
   "cell_type": "code",
   "execution_count": null,
   "id": "c72b49b3-6efb-4cce-bbd9-b2f9cbff36cc",
   "metadata": {},
   "outputs": [],
   "source": [
    "s[-7:-len(s)]"
   ]
  },
  {
   "cell_type": "code",
   "execution_count": null,
   "id": "3cd93ee3-641c-4c0a-8f33-6bbb59fa4316",
   "metadata": {},
   "outputs": [],
   "source": [
    "s[-7:]"
   ]
  },
  {
   "cell_type": "code",
   "execution_count": null,
   "id": "62a722b4-43aa-4821-80bc-2618d657c21a",
   "metadata": {},
   "outputs": [],
   "source": [
    "s[:-1]"
   ]
  },
  {
   "cell_type": "code",
   "execution_count": null,
   "id": "7419c532-a6bc-4407-ab16-40c511e99cfe",
   "metadata": {},
   "outputs": [],
   "source": [
    "s[-2:]"
   ]
  },
  {
   "cell_type": "code",
   "execution_count": null,
   "id": "c528c89d-7bfb-4a0c-b152-1dd5faaa0959",
   "metadata": {},
   "outputs": [],
   "source": [
    "s[0:7:1]"
   ]
  },
  {
   "cell_type": "code",
   "execution_count": null,
   "id": "6976c1e1-ff9d-4cf0-bc32-7b6c5e211511",
   "metadata": {},
   "outputs": [],
   "source": [
    "s[:7:]"
   ]
  },
  {
   "cell_type": "code",
   "execution_count": null,
   "id": "6dbc52a5-e3ab-46d2-afe5-f7c4b0e1363f",
   "metadata": {},
   "outputs": [],
   "source": [
    "s[:::]"
   ]
  },
  {
   "cell_type": "code",
   "execution_count": null,
   "id": "ab51fdea-f0f6-448c-b538-95a3928c6d7c",
   "metadata": {},
   "outputs": [],
   "source": [
    "s[:]"
   ]
  },
  {
   "cell_type": "code",
   "execution_count": null,
   "id": "cf0a83da-6e4d-42de-a95d-ce782e855f53",
   "metadata": {},
   "outputs": [],
   "source": [
    "s[-1::-1]"
   ]
  },
  {
   "cell_type": "code",
   "execution_count": null,
   "id": "02010581-35cb-4e27-94a5-dfa90f1ca634",
   "metadata": {},
   "outputs": [],
   "source": [
    "s[::2]"
   ]
  },
  {
   "cell_type": "code",
   "execution_count": null,
   "id": "1ff1f06b-6d72-4e79-9abc-ba4ad05882a6",
   "metadata": {},
   "outputs": [],
   "source": [
    "s[::6]"
   ]
  },
  {
   "cell_type": "code",
   "execution_count": null,
   "id": "b6673d19-5dfb-4ae1-80a0-9305e9d11411",
   "metadata": {},
   "outputs": [],
   "source": [
    "s[::-2]"
   ]
  },
  {
   "cell_type": "code",
   "execution_count": null,
   "id": "41b54d7c-259b-4b01-b19e-6c926a98b84b",
   "metadata": {},
   "outputs": [],
   "source": [
    "s[2:5]"
   ]
  },
  {
   "cell_type": "code",
   "execution_count": 42,
   "id": "05beb3f8-4fdd-465b-a6a7-fcb7a05ee282",
   "metadata": {},
   "outputs": [
    {
     "ename": "NameError",
     "evalue": "name 's' is not defined",
     "output_type": "error",
     "traceback": [
      "\u001b[1;31m---------------------------------------------------------------------------\u001b[0m",
      "\u001b[1;31mNameError\u001b[0m                                 Traceback (most recent call last)",
      "Input \u001b[1;32mIn [42]\u001b[0m, in \u001b[0;36m<cell line: 1>\u001b[1;34m()\u001b[0m\n\u001b[1;32m----> 1\u001b[0m \u001b[43ms\u001b[49m[:\u001b[38;5;241m0\u001b[39m:\u001b[38;5;241m-\u001b[39m\u001b[38;5;241m2\u001b[39m]\n",
      "\u001b[1;31mNameError\u001b[0m: name 's' is not defined"
     ]
    }
   ],
   "source": [
    "s[:0:-2]"
   ]
  },
  {
   "cell_type": "code",
   "execution_count": null,
   "id": "04caca3f-e947-4bf8-bd1f-c849fc6104b3",
   "metadata": {},
   "outputs": [],
   "source": [
    "s=s[:4] + 't' + s[5:]"
   ]
  },
  {
   "cell_type": "code",
   "execution_count": null,
   "id": "c14a8ec4-5218-4383-a755-84a47a746b96",
   "metadata": {},
   "outputs": [],
   "source": [
    "s"
   ]
  },
  {
   "cell_type": "code",
   "execution_count": null,
   "id": "c120f7e3-7b16-4357-b4c9-2cb29327c82f",
   "metadata": {},
   "outputs": [],
   "source": [
    "s.replace(t,c)"
   ]
  },
  {
   "cell_type": "code",
   "execution_count": null,
   "id": "342ac9b1-9b29-48c9-8616-2cc04fff77cc",
   "metadata": {},
   "outputs": [],
   "source": [
    "s.replace('t','c')"
   ]
  },
  {
   "cell_type": "code",
   "execution_count": null,
   "id": "24972b85-9000-43de-a04d-917afae621a8",
   "metadata": {},
   "outputs": [],
   "source": [
    "s"
   ]
  },
  {
   "cell_type": "code",
   "execution_count": null,
   "id": "d63497c4-db67-4611-9b4a-18db6fcb4783",
   "metadata": {},
   "outputs": [],
   "source": [
    "s=jessica"
   ]
  },
  {
   "cell_type": "code",
   "execution_count": null,
   "id": "04b4d2d1-0bcc-4118-9650-b653dd0b4404",
   "metadata": {},
   "outputs": [],
   "source": [
    "s='jessica'"
   ]
  },
  {
   "cell_type": "code",
   "execution_count": null,
   "id": "d3d06391-af89-4808-942f-c7d307dd34d9",
   "metadata": {},
   "outputs": [],
   "source": [
    "s"
   ]
  },
  {
   "cell_type": "code",
   "execution_count": 43,
   "id": "8114183e-797c-4184-8cae-dc9b092b8266",
   "metadata": {},
   "outputs": [
    {
     "ename": "NameError",
     "evalue": "name 's' is not defined",
     "output_type": "error",
     "traceback": [
      "\u001b[1;31m---------------------------------------------------------------------------\u001b[0m",
      "\u001b[1;31mNameError\u001b[0m                                 Traceback (most recent call last)",
      "Input \u001b[1;32mIn [43]\u001b[0m, in \u001b[0;36m<cell line: 1>\u001b[1;34m()\u001b[0m\n\u001b[1;32m----> 1\u001b[0m \u001b[43ms\u001b[49m\u001b[38;5;241m.\u001b[39mcapitalize()\n",
      "\u001b[1;31mNameError\u001b[0m: name 's' is not defined"
     ]
    }
   ],
   "source": [
    "s.capitalize()"
   ]
  },
  {
   "cell_type": "code",
   "execution_count": null,
   "id": "ec37f5fe-4ee2-4729-ac6f-bcbb0a419d5e",
   "metadata": {},
   "outputs": [],
   "source": [
    "s"
   ]
  },
  {
   "cell_type": "code",
   "execution_count": null,
   "id": "fc70f26f-eb9d-4073-8862-b37e31f6ca8d",
   "metadata": {},
   "outputs": [],
   "source": [
    "s.swapcase()"
   ]
  },
  {
   "cell_type": "code",
   "execution_count": null,
   "id": "ce12d8f6-ab5c-4c2b-bd52-0f7d5fbc240f",
   "metadata": {},
   "outputs": [],
   "source": [
    "s = 'jessica is here'"
   ]
  },
  {
   "cell_type": "code",
   "execution_count": null,
   "id": "ff24c41f-6ff1-46f7-ba8f-36f7eb9b286e",
   "metadata": {},
   "outputs": [],
   "source": [
    "s.title()"
   ]
  },
  {
   "cell_type": "code",
   "execution_count": 44,
   "id": "78fed023-cfe7-44bf-a232-c8bb51e41dde",
   "metadata": {},
   "outputs": [
    {
     "ename": "NameError",
     "evalue": "name 's' is not defined",
     "output_type": "error",
     "traceback": [
      "\u001b[1;31m---------------------------------------------------------------------------\u001b[0m",
      "\u001b[1;31mNameError\u001b[0m                                 Traceback (most recent call last)",
      "Input \u001b[1;32mIn [44]\u001b[0m, in \u001b[0;36m<cell line: 1>\u001b[1;34m()\u001b[0m\n\u001b[1;32m----> 1\u001b[0m \u001b[43ms\u001b[49m\u001b[38;5;241m.\u001b[39mcount(\u001b[38;5;124m'\u001b[39m\u001b[38;5;124ms\u001b[39m\u001b[38;5;124m'\u001b[39m)\n",
      "\u001b[1;31mNameError\u001b[0m: name 's' is not defined"
     ]
    }
   ],
   "source": [
    "s.count('s')"
   ]
  },
  {
   "cell_type": "code",
   "execution_count": null,
   "id": "a4d29d52-43f7-4fcb-820c-115b2b6ce2f8",
   "metadata": {},
   "outputs": [],
   "source": [
    "s.count('s',0,6)"
   ]
  },
  {
   "cell_type": "code",
   "execution_count": null,
   "id": "fe41876c-0501-48c7-b999-81c16da66fe9",
   "metadata": {},
   "outputs": [],
   "source": [
    "s.endswith('Is Here')"
   ]
  },
  {
   "cell_type": "code",
   "execution_count": null,
   "id": "6e9a44cd-f233-46ea-9b08-d54a8c631bcf",
   "metadata": {},
   "outputs": [],
   "source": [
    "s.endswith('is here')"
   ]
  },
  {
   "cell_type": "code",
   "execution_count": null,
   "id": "537a5f61-9bf5-4417-9d58-21c43f484f19",
   "metadata": {},
   "outputs": [],
   "source": [
    "s.endswith('ica',4,7)"
   ]
  },
  {
   "cell_type": "code",
   "execution_count": null,
   "id": "d79a1d98-0a68-40e9-89ea-3cf57d19d4f1",
   "metadata": {},
   "outputs": [],
   "source": [
    "s.find('is')"
   ]
  },
  {
   "cell_type": "code",
   "execution_count": null,
   "id": "ec34e9f9-ce5e-47da-a74f-fafe2b73cc35",
   "metadata": {},
   "outputs": [],
   "source": [
    "s.rfind('s')"
   ]
  },
  {
   "cell_type": "code",
   "execution_count": 45,
   "id": "69bc6092-8a2e-475c-b33c-2d8ac0be2cee",
   "metadata": {},
   "outputs": [
    {
     "ename": "NameError",
     "evalue": "name 's' is not defined",
     "output_type": "error",
     "traceback": [
      "\u001b[1;31m---------------------------------------------------------------------------\u001b[0m",
      "\u001b[1;31mNameError\u001b[0m                                 Traceback (most recent call last)",
      "Input \u001b[1;32mIn [45]\u001b[0m, in \u001b[0;36m<cell line: 1>\u001b[1;34m()\u001b[0m\n\u001b[1;32m----> 1\u001b[0m \u001b[43ms\u001b[49m\u001b[38;5;241m.\u001b[39mrfind(\u001b[38;5;124m'\u001b[39m\u001b[38;5;124ms\u001b[39m\u001b[38;5;124m'\u001b[39m,\u001b[38;5;241m0\u001b[39m,\u001b[38;5;241m9\u001b[39m)\n",
      "\u001b[1;31mNameError\u001b[0m: name 's' is not defined"
     ]
    }
   ],
   "source": [
    "s.rfind('s',0,9)"
   ]
  },
  {
   "cell_type": "code",
   "execution_count": null,
   "id": "e3caeaf3-d697-4ebf-8bad-6853305427ba",
   "metadata": {},
   "outputs": [],
   "source": [
    "s.rindex('s',,9)"
   ]
  },
  {
   "cell_type": "code",
   "execution_count": null,
   "id": "b458ba52-ecdf-4e56-bb5a-d92250a139fb",
   "metadata": {},
   "outputs": [],
   "source": [
    "s.rindex('s',0,9)"
   ]
  },
  {
   "cell_type": "code",
   "execution_count": null,
   "id": "ed62c8a4-2d50-40db-bf39-db9c0639858d",
   "metadata": {},
   "outputs": [],
   "source": [
    "s.isalnum()"
   ]
  },
  {
   "cell_type": "code",
   "execution_count": null,
   "id": "0ec7a3b7-c388-48dc-adac-69f94cc83130",
   "metadata": {},
   "outputs": [],
   "source": [
    "s.isalpha()"
   ]
  },
  {
   "cell_type": "code",
   "execution_count": null,
   "id": "6a9d9faa-f7b7-4581-8390-606951aca12b",
   "metadata": {},
   "outputs": [],
   "source": [
    "p=practice"
   ]
  },
  {
   "cell_type": "code",
   "execution_count": null,
   "id": "1eae3c8b-59d0-4227-be64-47642253be81",
   "metadata": {},
   "outputs": [],
   "source": [
    "p='practice'"
   ]
  },
  {
   "cell_type": "code",
   "execution_count": 46,
   "id": "c3a812ff-72a8-41ee-a94b-a747d752b427",
   "metadata": {},
   "outputs": [
    {
     "ename": "NameError",
     "evalue": "name 'p' is not defined",
     "output_type": "error",
     "traceback": [
      "\u001b[1;31m---------------------------------------------------------------------------\u001b[0m",
      "\u001b[1;31mNameError\u001b[0m                                 Traceback (most recent call last)",
      "Input \u001b[1;32mIn [46]\u001b[0m, in \u001b[0;36m<cell line: 1>\u001b[1;34m()\u001b[0m\n\u001b[1;32m----> 1\u001b[0m \u001b[43mp\u001b[49m\u001b[38;5;241m.\u001b[39misalpha()\n",
      "\u001b[1;31mNameError\u001b[0m: name 'p' is not defined"
     ]
    }
   ],
   "source": [
    "p.isalpha()"
   ]
  },
  {
   "cell_type": "code",
   "execution_count": null,
   "id": "b24b9a3f-27df-42e8-a34e-c3f70273f018",
   "metadata": {},
   "outputs": [],
   "source": [
    "p.isalnum()"
   ]
  },
  {
   "cell_type": "code",
   "execution_count": null,
   "id": "d51463c4-6a50-4281-b0e8-3646bc06bdb1",
   "metadata": {},
   "outputs": [],
   "source": [
    "print('a\\tb')"
   ]
  },
  {
   "cell_type": "code",
   "execution_count": null,
   "id": "74b5c876-8a94-47c6-9f2d-9a2b86fdafa4",
   "metadata": {},
   "outputs": [],
   "source": [
    "print('a\\nb')"
   ]
  },
  {
   "cell_type": "code",
   "execution_count": 47,
   "id": "c57fa9f2-6b97-4c55-a006-dd83d6122495",
   "metadata": {},
   "outputs": [
    {
     "data": {
      "text/plain": [
       "'www.realpython.com'"
      ]
     },
     "execution_count": 47,
     "metadata": {},
     "output_type": "execute_result"
    }
   ],
   "source": [
    "'http://www.realpython.com'.lstrip('/:pth')"
   ]
  },
  {
   "cell_type": "code",
   "execution_count": 48,
   "id": "701b3974-382a-411f-a878-ba1de39ebff8",
   "metadata": {},
   "outputs": [
    {
     "ename": "SyntaxError",
     "evalue": "invalid syntax (2497683163.py, line 1)",
     "output_type": "error",
     "traceback": [
      "\u001b[1;36m  Input \u001b[1;32mIn [48]\u001b[1;36m\u001b[0m\n\u001b[1;33m    s.lstrip([0:5])\u001b[0m\n\u001b[1;37m               ^\u001b[0m\n\u001b[1;31mSyntaxError\u001b[0m\u001b[1;31m:\u001b[0m invalid syntax\n"
     ]
    }
   ],
   "source": [
    "s.lstrip([0:5])"
   ]
  },
  {
   "cell_type": "code",
   "execution_count": null,
   "id": "f13d90b0-c2ab-4cf7-9c86-b0182dff7de4",
   "metadata": {},
   "outputs": [],
   "source": [
    "s.lstrip('Jessica')"
   ]
  },
  {
   "cell_type": "code",
   "execution_count": null,
   "id": "227de04d-8262-4463-a484-b7b6d5f69fd4",
   "metadata": {},
   "outputs": [],
   "source": [
    "s.lstrip('jessica')"
   ]
  },
  {
   "cell_type": "code",
   "execution_count": null,
   "id": "b40d4a0c-181e-4fc2-96b5-6494707b1af3",
   "metadata": {},
   "outputs": [],
   "source": [
    "s.lstrip()"
   ]
  },
  {
   "cell_type": "code",
   "execution_count": null,
   "id": "72f36575-bf48-4008-b8aa-e9af3b763d06",
   "metadata": {},
   "outputs": [],
   "source": [
    "s=s.lstrip('jessica')"
   ]
  },
  {
   "cell_type": "code",
   "execution_count": null,
   "id": "562af412-6c4e-4eba-838d-4ac8dac3aa31",
   "metadata": {},
   "outputs": [],
   "source": [
    "s"
   ]
  },
  {
   "cell_type": "code",
   "execution_count": null,
   "id": "2d6e7a38-6b02-4575-9288-819a8b2c67e6",
   "metadata": {},
   "outputs": [],
   "source": [
    "s.lstrip()"
   ]
  },
  {
   "cell_type": "code",
   "execution_count": 49,
   "id": "180c28aa-471e-42f7-92a8-22659ac47f19",
   "metadata": {},
   "outputs": [
    {
     "ename": "NameError",
     "evalue": "name 's' is not defined",
     "output_type": "error",
     "traceback": [
      "\u001b[1;31m---------------------------------------------------------------------------\u001b[0m",
      "\u001b[1;31mNameError\u001b[0m                                 Traceback (most recent call last)",
      "Input \u001b[1;32mIn [49]\u001b[0m, in \u001b[0;36m<cell line: 1>\u001b[1;34m()\u001b[0m\n\u001b[1;32m----> 1\u001b[0m \u001b[43ms\u001b[49m\u001b[38;5;241m.\u001b[39mlstrip[\u001b[38;5;241m0\u001b[39m]\n",
      "\u001b[1;31mNameError\u001b[0m: name 's' is not defined"
     ]
    }
   ],
   "source": [
    "s.lstrip[0]"
   ]
  },
  {
   "cell_type": "code",
   "execution_count": null,
   "id": "77884e8f-ddbe-4707-96fe-f15e54279f8c",
   "metadata": {},
   "outputs": [],
   "source": [
    "s.lstrip([0])"
   ]
  },
  {
   "cell_type": "code",
   "execution_count": null,
   "id": "9cbeecf0-3326-4bb7-9303-3a81f36e8311",
   "metadata": {},
   "outputs": [],
   "source": [
    "s.replace('i','')"
   ]
  },
  {
   "cell_type": "code",
   "execution_count": null,
   "id": "bef0fbb2-0a14-4284-9a13-5c59b0ce3052",
   "metadata": {},
   "outputs": [],
   "source": [
    "s.rjust(10)"
   ]
  },
  {
   "cell_type": "code",
   "execution_count": null,
   "id": "5bd7022f-d7fd-4a81-b1e0-bd131fdaa5cc",
   "metadata": {},
   "outputs": [],
   "source": [
    "s.expandtab()"
   ]
  },
  {
   "cell_type": "code",
   "execution_count": 50,
   "id": "79d503b8-d3c0-4f53-9704-2e1c5bb21dd2",
   "metadata": {},
   "outputs": [
    {
     "data": {
      "text/plain": [
       "'a\\tb'"
      ]
     },
     "execution_count": 50,
     "metadata": {},
     "output_type": "execute_result"
    }
   ],
   "source": [
    "s='a\\tb'\n",
    "s"
   ]
  },
  {
   "cell_type": "code",
   "execution_count": 51,
   "id": "ebfc5bff-991d-44d2-b8c9-dabaf8e9e00a",
   "metadata": {},
   "outputs": [
    {
     "name": "stdout",
     "output_type": "stream",
     "text": [
      "a\tb\n"
     ]
    }
   ],
   "source": [
    "print(s)"
   ]
  },
  {
   "cell_type": "code",
   "execution_count": 52,
   "id": "d5a78a8a-7ee7-477a-a28b-e78ff0ed3cee",
   "metadata": {},
   "outputs": [
    {
     "data": {
      "text/plain": [
       "'a       b'"
      ]
     },
     "execution_count": 52,
     "metadata": {},
     "output_type": "execute_result"
    }
   ],
   "source": [
    "s.expandtabs()"
   ]
  },
  {
   "cell_type": "code",
   "execution_count": 53,
   "id": "e023f157-c7d9-4b04-b632-0eaa6e6c3fc3",
   "metadata": {},
   "outputs": [
    {
     "data": {
      "text/plain": [
       "'a\\tb-----------------'"
      ]
     },
     "execution_count": 53,
     "metadata": {},
     "output_type": "execute_result"
    }
   ],
   "source": [
    "s.ljust(20,'-')"
   ]
  },
  {
   "cell_type": "code",
   "execution_count": 54,
   "id": "e3afe28b-941a-4e27-9140-38d58ea276a1",
   "metadata": {},
   "outputs": [
    {
     "name": "stdout",
     "output_type": "stream",
     "text": [
      "a\tb-----------------\n"
     ]
    }
   ],
   "source": [
    "print(s.ljust(20,'-'))"
   ]
  },
  {
   "cell_type": "code",
   "execution_count": 55,
   "id": "0f4c13a4-5b4b-4f1b-a1ca-18048c68a325",
   "metadata": {},
   "outputs": [
    {
     "data": {
      "text/plain": [
       "'             a\\tb              '"
      ]
     },
     "execution_count": 55,
     "metadata": {},
     "output_type": "execute_result"
    }
   ],
   "source": [
    "s.center(30)"
   ]
  },
  {
   "cell_type": "code",
   "execution_count": 56,
   "id": "ef0dbc25-239a-4c28-8ce3-977fdce359c2",
   "metadata": {},
   "outputs": [
    {
     "name": "stdout",
     "output_type": "stream",
     "text": [
      "        a\tb         \n"
     ]
    }
   ],
   "source": [
    "print(s.center(20))"
   ]
  },
  {
   "cell_type": "code",
   "execution_count": 57,
   "id": "2d9e1953-2f73-4c1e-a125-20e063199c45",
   "metadata": {},
   "outputs": [],
   "source": [
    "s='jessica'"
   ]
  },
  {
   "cell_type": "code",
   "execution_count": 58,
   "id": "a767f7e6-4024-4dd7-a76c-def5fb381701",
   "metadata": {},
   "outputs": [
    {
     "data": {
      "text/plain": [
       "'jessica'"
      ]
     },
     "execution_count": 58,
     "metadata": {},
     "output_type": "execute_result"
    }
   ],
   "source": [
    "s.lstrip('s')"
   ]
  },
  {
   "cell_type": "code",
   "execution_count": 59,
   "id": "9ebf9556-4899-4192-bdfb-22571c00728b",
   "metadata": {},
   "outputs": [
    {
     "ename": "SyntaxError",
     "evalue": "unexpected EOF while parsing (1298856283.py, line 1)",
     "output_type": "error",
     "traceback": [
      "\u001b[1;36m  Input \u001b[1;32mIn [59]\u001b[1;36m\u001b[0m\n\u001b[1;33m    s.lstrip(\u001b[0m\n\u001b[1;37m             ^\u001b[0m\n\u001b[1;31mSyntaxError\u001b[0m\u001b[1;31m:\u001b[0m unexpected EOF while parsing\n"
     ]
    }
   ],
   "source": [
    "s.lstrip("
   ]
  },
  {
   "cell_type": "code",
   "execution_count": null,
   "id": "ec3c7398-9817-48f2-a01c-ab938a29e617",
   "metadata": {},
   "outputs": [],
   "source": [
    "txt = \",,,,,ssaaww.....banana\"\n",
    "\n",
    "x = txt.lstrip(\",.asw\")"
   ]
  },
  {
   "cell_type": "code",
   "execution_count": null,
   "id": "9069677b-e1e4-4fa2-9ca4-a3c89d583c71",
   "metadata": {},
   "outputs": [],
   "source": [
    "x"
   ]
  },
  {
   "cell_type": "code",
   "execution_count": null,
   "id": "81f19bd7-6211-47f2-8013-a32d2797ba2a",
   "metadata": {},
   "outputs": [],
   "source": [
    "y='.)/bana.na'\n",
    "y"
   ]
  },
  {
   "cell_type": "code",
   "execution_count": null,
   "id": "053afd3f-9e14-4557-95b9-48c092d41529",
   "metadata": {},
   "outputs": [],
   "source": [
    "y.lstrip('./)')"
   ]
  },
  {
   "cell_type": "code",
   "execution_count": null,
   "id": "c6266021-8666-463c-85d0-dd398340622d",
   "metadata": {},
   "outputs": [],
   "source": [
    "'http://www.realpython.com'.lstrip('/:')"
   ]
  },
  {
   "cell_type": "code",
   "execution_count": null,
   "id": "287fbff8-91e8-4f97-91ee-4366ecb2ad03",
   "metadata": {},
   "outputs": [],
   "source": [
    "'http://www.realpython.com'.lstrip('htp')"
   ]
  },
  {
   "cell_type": "code",
   "execution_count": null,
   "id": "392f256c-932f-4e4f-9dbd-a4db2bde8dae",
   "metadata": {},
   "outputs": [],
   "source": [
    "'www.realpython.com'.strip('w.com')"
   ]
  },
  {
   "cell_type": "code",
   "execution_count": null,
   "id": "ae3ecaec-e40a-4d01-802e-e17690f5bc6c",
   "metadata": {},
   "outputs": [],
   "source": [
    "'www.realpython.com'.strip('w.m')"
   ]
  },
  {
   "cell_type": "code",
   "execution_count": null,
   "id": "73ea570b-89b9-45a5-af96-386b24406c0c",
   "metadata": {},
   "outputs": [],
   "source": [
    "print(len(2))"
   ]
  },
  {
   "cell_type": "code",
   "execution_count": null,
   "id": "9e647246-018a-4805-99e4-9108fa6ab74e",
   "metadata": {},
   "outputs": [],
   "source": [
    "2+2"
   ]
  },
  {
   "cell_type": "code",
   "execution_count": null,
   "id": "4f566817-99fa-4d98-81e3-81abda7d4cf4",
   "metadata": {},
   "outputs": [],
   "source": [
    "\"2\"+\"2\""
   ]
  },
  {
   "cell_type": "code",
   "execution_count": null,
   "id": "601f6feb-c12e-407b-ab70-f8f45a50fffc",
   "metadata": {},
   "outputs": [],
   "source": [
    "\"2\"+2"
   ]
  },
  {
   "cell_type": "code",
   "execution_count": null,
   "id": "89ddaed6-470d-4d1e-b49f-bf1aa0e99ec4",
   "metadata": {},
   "outputs": [],
   "source": [
    "int(8)"
   ]
  },
  {
   "cell_type": "code",
   "execution_count": null,
   "id": "f887c3fa-e598-4437-84d3-5e8b3bbc4b74",
   "metadata": {},
   "outputs": [],
   "source": [
    "float(8)"
   ]
  },
  {
   "cell_type": "code",
   "execution_count": null,
   "id": "b1f46c93-fb25-467b-a721-805410d632c2",
   "metadata": {},
   "outputs": [],
   "source": [
    "x=float(9)"
   ]
  },
  {
   "cell_type": "code",
   "execution_count": null,
   "id": "1edeab2b-d915-4229-8b03-b2542c8f7537",
   "metadata": {},
   "outputs": [],
   "source": [
    "x"
   ]
  },
  {
   "cell_type": "code",
   "execution_count": null,
   "id": "3d1932d1-4629-4020-9f20-d67efcac1126",
   "metadata": {},
   "outputs": [],
   "source": [
    "int(x)"
   ]
  },
  {
   "cell_type": "code",
   "execution_count": null,
   "id": "b53693f4-68c3-4c10-8566-be498e1f6d43",
   "metadata": {},
   "outputs": [],
   "source": [
    "x=x+1\n",
    "print(x)"
   ]
  },
  {
   "cell_type": "code",
   "execution_count": null,
   "id": "b3273745-faa0-4b50-960c-636c632744ae",
   "metadata": {},
   "outputs": [],
   "source": [
    "x+=1"
   ]
  },
  {
   "cell_type": "code",
   "execution_count": null,
   "id": "c9699cfd-f0a5-4612-968e-64a1e47003f5",
   "metadata": {},
   "outputs": [],
   "source": [
    "x"
   ]
  },
  {
   "cell_type": "code",
   "execution_count": null,
   "id": "390a53af-837a-4bbf-a5e4-a86fde401d7c",
   "metadata": {},
   "outputs": [],
   "source": [
    "x*=2"
   ]
  },
  {
   "cell_type": "code",
   "execution_count": null,
   "id": "308c9d14-25ac-4aae-9d90-9041a6e71cfa",
   "metadata": {},
   "outputs": [],
   "source": [
    "x"
   ]
  },
  {
   "cell_type": "code",
   "execution_count": null,
   "id": "73b5f435-546c-44d5-91d2-30333214c26b",
   "metadata": {},
   "outputs": [],
   "source": [
    "anyNum=int(input())"
   ]
  },
  {
   "cell_type": "code",
   "execution_count": null,
   "id": "4162c1cb-ccb1-499c-bde3-3013fabeb065",
   "metadata": {},
   "outputs": [],
   "source": [
    "anyNum -= 5"
   ]
  },
  {
   "cell_type": "code",
   "execution_count": null,
   "id": "bdc7dc11-e280-4d8d-8096-94139bbbf17e",
   "metadata": {},
   "outputs": [],
   "source": [
    "print(anyNum)"
   ]
  },
  {
   "cell_type": "code",
   "execution_count": null,
   "id": "20cdf905-c448-44e5-b7e0-16e5e4899e04",
   "metadata": {},
   "outputs": [],
   "source": [
    "anyNum=int(input('Please input any integer: '))"
   ]
  },
  {
   "cell_type": "code",
   "execution_count": null,
   "id": "63c4a693-df1c-4be8-80a2-ac0b1015b729",
   "metadata": {},
   "outputs": [],
   "source": [
    "anyNum-=5\n",
    "print(anyNum)"
   ]
  },
  {
   "cell_type": "code",
   "execution_count": 60,
   "id": "1953485e-8563-44b2-9c8a-65571c7537ac",
   "metadata": {},
   "outputs": [
    {
     "name": "stdout",
     "output_type": "stream",
     "text": [
      "15\n"
     ]
    }
   ],
   "source": [
    "tripleUp=5\n",
    "tripleUp*=3\n",
    "print(tripleUp)"
   ]
  },
  {
   "cell_type": "code",
   "execution_count": 61,
   "id": "42608c3b-caca-4e64-b901-13f75c117cf9",
   "metadata": {},
   "outputs": [
    {
     "name": "stdout",
     "output_type": "stream",
     "text": [
      "25.0\n"
     ]
    }
   ],
   "source": [
    "quarterValue=100\n",
    "quarterValue/=4\n",
    "print(quarterValue)"
   ]
  },
  {
   "cell_type": "code",
   "execution_count": 62,
   "id": "dbc2dfaa-de0d-48c6-a202-c3a523be52bb",
   "metadata": {},
   "outputs": [],
   "source": [
    "x=3\n",
    "x+=1"
   ]
  },
  {
   "cell_type": "code",
   "execution_count": 63,
   "id": "90243942-0e5a-4c4b-bbc9-e29de6e2a01e",
   "metadata": {},
   "outputs": [
    {
     "data": {
      "text/plain": [
       "4"
      ]
     },
     "execution_count": 63,
     "metadata": {},
     "output_type": "execute_result"
    }
   ],
   "source": [
    "x"
   ]
  },
  {
   "cell_type": "code",
   "execution_count": 64,
   "id": "21e4fc49-df8a-4695-86cd-6cf0b53d67cb",
   "metadata": {},
   "outputs": [],
   "source": [
    "x=10\n",
    "x/=2"
   ]
  },
  {
   "cell_type": "code",
   "execution_count": 65,
   "id": "251d8bd4-e4ce-4934-8510-0a445091ecfb",
   "metadata": {},
   "outputs": [
    {
     "data": {
      "text/plain": [
       "5.0"
      ]
     },
     "execution_count": 65,
     "metadata": {},
     "output_type": "execute_result"
    }
   ],
   "source": [
    "x"
   ]
  },
  {
   "cell_type": "code",
   "execution_count": 66,
   "id": "69fc065a-45d2-40ab-95de-769b87739b2f",
   "metadata": {},
   "outputs": [
    {
     "name": "stdin",
     "output_type": "stream",
     "text": [
      "num 1: 1\n",
      "num 2: 2\n",
      "num 3: 3\n"
     ]
    },
    {
     "name": "stdout",
     "output_type": "stream",
     "text": [
      "The sum is:  6\n"
     ]
    }
   ],
   "source": [
    "sum=0\n",
    "num=int(input('num 1:' ))\n",
    "sum+=num\n",
    "num=int(input('num 2:' ))\n",
    "sum+=num\n",
    "num=int(input('num 3:' ))\n",
    "sum+=num\n",
    "print('The sum is: ', sum)"
   ]
  },
  {
   "cell_type": "code",
   "execution_count": 67,
   "id": "72bcb5a3-54e2-47a3-8306-77054c0671ca",
   "metadata": {},
   "outputs": [
    {
     "data": {
      "text/plain": [
       "False"
      ]
     },
     "execution_count": 67,
     "metadata": {},
     "output_type": "execute_result"
    }
   ],
   "source": [
    "bool()"
   ]
  },
  {
   "cell_type": "code",
   "execution_count": null,
   "id": "6abadeb9-0850-48c3-9297-b3a67d372e25",
   "metadata": {},
   "outputs": [],
   "source": []
  },
  {
   "cell_type": "code",
   "execution_count": 68,
   "id": "ed1680c3-379c-4694-9b21-a1411c73cd42",
   "metadata": {},
   "outputs": [
    {
     "data": {
      "text/plain": [
       "True"
      ]
     },
     "execution_count": 68,
     "metadata": {},
     "output_type": "execute_result"
    }
   ],
   "source": [
    "bool(1)"
   ]
  },
  {
   "cell_type": "code",
   "execution_count": null,
   "id": "c85df86c-2fed-4ae4-94fe-397f21ce302a",
   "metadata": {},
   "outputs": [],
   "source": [
    "num1=int(input('num 1:' ))\n",
    "num2=int(input('num 2:' ))\n",
    "num3=int(input('num 3:' ))\n",
    "sum=num1+num2+num3\n",
    "\n",
    "while num1 and num2 and num3:\n",
    "    print('The sum is: ', sum)\n",
    "    break"
   ]
  },
  {
   "cell_type": "markdown",
   "id": "bfd0139d-0fd5-4a30-8f2f-f5206c8472ca",
   "metadata": {
    "jp-MarkdownHeadingCollapsed": true,
    "tags": []
   },
   "source": [
    "# Numbers"
   ]
  },
  {
   "cell_type": "code",
   "execution_count": null,
   "id": "940c3707-f423-4a0b-825c-0bc6babe189b",
   "metadata": {},
   "outputs": [],
   "source": [
    "a=4\n",
    "b=2\n",
    "c=a+b\n",
    "print(c)"
   ]
  },
  {
   "cell_type": "code",
   "execution_count": null,
   "id": "5c1df96c-0281-4faf-a41b-ca659778f83b",
   "metadata": {},
   "outputs": [],
   "source": [
    "print(c/2)"
   ]
  },
  {
   "cell_type": "code",
   "execution_count": null,
   "id": "f9555a81-4e43-4e1a-8624-3fc7c354fcb0",
   "metadata": {},
   "outputs": [],
   "source": [
    "print(2*2)"
   ]
  },
  {
   "cell_type": "code",
   "execution_count": null,
   "id": "648a7870-ace7-4917-91c1-cd3f9b2899dd",
   "metadata": {},
   "outputs": [],
   "source": [
    "print(2**10)"
   ]
  },
  {
   "cell_type": "code",
   "execution_count": null,
   "id": "af715730-d767-463e-a419-58a685a56842",
   "metadata": {},
   "outputs": [],
   "source": [
    "print(4%2)\n",
    "print(4%3)"
   ]
  },
  {
   "cell_type": "code",
   "execution_count": null,
   "id": "3d77243e-d76a-4f53-8ebc-2adf41d2a7e6",
   "metadata": {},
   "outputs": [],
   "source": [
    "print(10//3)"
   ]
  },
  {
   "cell_type": "code",
   "execution_count": null,
   "id": "8226fbd1-eb64-4e19-8a8b-d25fa90c19ce",
   "metadata": {},
   "outputs": [],
   "source": [
    "print(-11//3)"
   ]
  },
  {
   "cell_type": "markdown",
   "id": "ca5f12fe-8cd9-46d9-93be-3c54506538cc",
   "metadata": {
    "jp-MarkdownHeadingCollapsed": true,
    "tags": []
   },
   "source": [
    "# Lists"
   ]
  },
  {
   "cell_type": "code",
   "execution_count": null,
   "id": "6d10aded-68f0-433b-ae4c-a3064eb1aad5",
   "metadata": {},
   "outputs": [],
   "source": [
    "a=['spam','egg','bacon']\n",
    "b=['egg','spam','bacon']"
   ]
  },
  {
   "cell_type": "code",
   "execution_count": null,
   "id": "2db6e27d-46f1-4a05-87bb-9f3bb023777e",
   "metadata": {},
   "outputs": [],
   "source": [
    "a==b"
   ]
  },
  {
   "cell_type": "code",
   "execution_count": null,
   "id": "ce06daa2-480d-4c08-aa94-9f67e833104d",
   "metadata": {},
   "outputs": [],
   "source": [
    "a=[2,4,6,8]"
   ]
  },
  {
   "cell_type": "code",
   "execution_count": null,
   "id": "c2995407-cd76-4d7e-a297-9ebf0e6b4fa3",
   "metadata": {},
   "outputs": [],
   "source": [
    "type(a)"
   ]
  },
  {
   "cell_type": "code",
   "execution_count": null,
   "id": "f699425a-0309-4b2e-88fe-dad85b7b59e0",
   "metadata": {},
   "outputs": [],
   "source": [
    "a=[21.42,'spam',3,4,'egg',False, 3.14159]\n",
    "type(a)"
   ]
  },
  {
   "cell_type": "code",
   "execution_count": null,
   "id": "b202f14c-f65d-4a34-a56f-4590b79fffaa",
   "metadata": {},
   "outputs": [],
   "source": [
    "a=[]"
   ]
  },
  {
   "cell_type": "code",
   "execution_count": null,
   "id": "f84bacf6-3d1e-4918-8c8e-47a7a141b891",
   "metadata": {},
   "outputs": [],
   "source": [
    "type(a)"
   ]
  },
  {
   "cell_type": "code",
   "execution_count": null,
   "id": "4004173d-8a7d-4b3e-81ad-a62b1102f882",
   "metadata": {},
   "outputs": [],
   "source": [
    "a=['bark','meow','bark']"
   ]
  },
  {
   "cell_type": "code",
   "execution_count": null,
   "id": "8e314e2a-6727-4e01-80ab-4ecc8da271bc",
   "metadata": {},
   "outputs": [],
   "source": [
    "type(a)"
   ]
  },
  {
   "cell_type": "code",
   "execution_count": null,
   "id": "4739008b-da15-4950-a02b-72f243725e91",
   "metadata": {},
   "outputs": [],
   "source": [
    "s='string'\n",
    "s[2]"
   ]
  },
  {
   "cell_type": "code",
   "execution_count": null,
   "id": "431b2b0e-ace9-4057-8417-d123c8d501f2",
   "metadata": {},
   "outputs": [],
   "source": [
    "a = ['foo', 'bar', 'baz', 'qux', 'quux', 'corge']"
   ]
  },
  {
   "cell_type": "code",
   "execution_count": null,
   "id": "af5efc81-ff65-4176-94c6-a09327a1543d",
   "metadata": {},
   "outputs": [],
   "source": [
    "a[0]"
   ]
  },
  {
   "cell_type": "code",
   "execution_count": null,
   "id": "f2e5d9e4-210e-446b-9192-a32976a943bc",
   "metadata": {},
   "outputs": [],
   "source": [
    "a[5]"
   ]
  },
  {
   "cell_type": "code",
   "execution_count": null,
   "id": "39ffc591-b516-4bc7-8a10-72a0b577a6f0",
   "metadata": {},
   "outputs": [],
   "source": [
    "a[:2]"
   ]
  },
  {
   "cell_type": "code",
   "execution_count": null,
   "id": "c02cfda3-0a6c-47ad-ac60-d40caa62ea99",
   "metadata": {},
   "outputs": [],
   "source": [
    "a[:]"
   ]
  },
  {
   "cell_type": "code",
   "execution_count": null,
   "id": "48449409-b339-4352-896f-4e73e93db7a1",
   "metadata": {},
   "outputs": [],
   "source": [
    "a[::-1]"
   ]
  },
  {
   "cell_type": "code",
   "execution_count": null,
   "id": "2023201f-16b4-4deb-8a93-1c3ce193c602",
   "metadata": {},
   "outputs": [],
   "source": [
    "print(a[:4],a[0:4])"
   ]
  },
  {
   "cell_type": "code",
   "execution_count": null,
   "id": "fcb96f2e-7f96-4cb7-8526-7e8d70abf669",
   "metadata": {},
   "outputs": [],
   "source": [
    "print(a[2:],a[2:len(a)])"
   ]
  },
  {
   "cell_type": "code",
   "execution_count": null,
   "id": "43238d54-829f-44f1-b23a-34b207a49df4",
   "metadata": {},
   "outputs": [],
   "source": [
    "'qux' in a"
   ]
  },
  {
   "cell_type": "code",
   "execution_count": null,
   "id": "6b5365e3-7054-4b5d-9d0e-c41a521d4a56",
   "metadata": {},
   "outputs": [],
   "source": [
    "'thud' not in a"
   ]
  },
  {
   "cell_type": "code",
   "execution_count": null,
   "id": "9b1f9a05-8f26-4caa-968e-254ac398ebec",
   "metadata": {},
   "outputs": [],
   "source": [
    "a+['grault','garply']"
   ]
  },
  {
   "cell_type": "code",
   "execution_count": null,
   "id": "ecfa6236-8c06-4958-b7cc-65905c6e58d9",
   "metadata": {},
   "outputs": [],
   "source": [
    "a*2"
   ]
  },
  {
   "cell_type": "code",
   "execution_count": null,
   "id": "7e5e5ac1-8e26-46c6-a29a-9834ebe8c038",
   "metadata": {},
   "outputs": [],
   "source": [
    "len(a)"
   ]
  },
  {
   "cell_type": "code",
   "execution_count": null,
   "id": "3d1b1d0b-7b01-460e-86fc-c1944711e88b",
   "metadata": {},
   "outputs": [],
   "source": [
    "a"
   ]
  },
  {
   "cell_type": "code",
   "execution_count": null,
   "id": "eb10f1cf-f3ed-438e-83b8-cffdd6b22359",
   "metadata": {},
   "outputs": [],
   "source": [
    "max(a)"
   ]
  },
  {
   "cell_type": "code",
   "execution_count": null,
   "id": "db54272f-34bf-418a-b3e3-f051c73c2dba",
   "metadata": {},
   "outputs": [],
   "source": [
    "min(a)"
   ]
  },
  {
   "cell_type": "code",
   "execution_count": null,
   "id": "9f78fb1f-7183-4b6c-8c54-24a275742655",
   "metadata": {},
   "outputs": [],
   "source": [
    "a+['zed']"
   ]
  },
  {
   "cell_type": "code",
   "execution_count": null,
   "id": "d9a07641-a751-4e00-9a5d-db45bba37325",
   "metadata": {},
   "outputs": [],
   "source": [
    "a=a+['zed']"
   ]
  },
  {
   "cell_type": "code",
   "execution_count": null,
   "id": "eb71f8e3-b538-4263-91e3-48663eecc247",
   "metadata": {},
   "outputs": [],
   "source": [
    "a"
   ]
  },
  {
   "cell_type": "code",
   "execution_count": null,
   "id": "87195bb9-d99e-47c1-b423-de664f917858",
   "metadata": {},
   "outputs": [],
   "source": [
    "max(a)"
   ]
  },
  {
   "cell_type": "code",
   "execution_count": null,
   "id": "d4d31001-e325-42a5-a293-38e7479b94e6",
   "metadata": {},
   "outputs": [],
   "source": [
    "len(a[:5])"
   ]
  },
  {
   "cell_type": "code",
   "execution_count": null,
   "id": "5538432b-cb6e-4024-a932-57e14ff8ad2a",
   "metadata": {},
   "outputs": [],
   "source": [
    "x=['a',['bb',['ccc','ddd'],'ee','ff'],'g',['hh','ii'],'j']"
   ]
  },
  {
   "cell_type": "code",
   "execution_count": null,
   "id": "94342d85-3b53-4520-90cc-b408f60076b5",
   "metadata": {},
   "outputs": [],
   "source": [
    "x[0]"
   ]
  },
  {
   "cell_type": "code",
   "execution_count": null,
   "id": "c4ae6d5e-6e43-4ca0-9cee-d4af85266026",
   "metadata": {},
   "outputs": [],
   "source": [
    "x[1]"
   ]
  },
  {
   "cell_type": "code",
   "execution_count": null,
   "id": "8d131169-71d3-465c-a03f-3e555d93c82e",
   "metadata": {},
   "outputs": [],
   "source": [
    "x[1][1]"
   ]
  },
  {
   "cell_type": "code",
   "execution_count": null,
   "id": "5672102f-eea6-4e38-b1d3-3ce06fb96130",
   "metadata": {},
   "outputs": [],
   "source": [
    "x[1][1][1]"
   ]
  },
  {
   "cell_type": "code",
   "execution_count": null,
   "id": "3fb68992-57b9-48b5-a199-f17a2e1d4db2",
   "metadata": {},
   "outputs": [],
   "source": [
    "x[1][1][-1]"
   ]
  },
  {
   "cell_type": "code",
   "execution_count": null,
   "id": "6033ebcb-4321-4fda-87d2-55a8acb75b92",
   "metadata": {},
   "outputs": [],
   "source": [
    "x[1][1:3]"
   ]
  },
  {
   "cell_type": "code",
   "execution_count": null,
   "id": "53d066f7-ed20-4ba3-bbc6-4dccf49d8db6",
   "metadata": {},
   "outputs": [],
   "source": [
    "x[3][::-1]"
   ]
  },
  {
   "cell_type": "code",
   "execution_count": null,
   "id": "5e33c02e-af7f-43c1-a8c6-9eb7bb0aa216",
   "metadata": {},
   "outputs": [],
   "source": [
    "a[2]=10\n",
    "a"
   ]
  },
  {
   "cell_type": "code",
   "execution_count": null,
   "id": "b7c7be1f-3f2c-4ace-abbc-ccd866f35b8e",
   "metadata": {},
   "outputs": [],
   "source": [
    "del a[2]"
   ]
  },
  {
   "cell_type": "code",
   "execution_count": null,
   "id": "247a5029-0996-4545-bd0a-d22524a34e29",
   "metadata": {},
   "outputs": [],
   "source": [
    "a"
   ]
  },
  {
   "cell_type": "code",
   "execution_count": null,
   "id": "0292b3cf-e3e7-4d33-8f17-3fb86a4232be",
   "metadata": {},
   "outputs": [],
   "source": [
    "a=[0,1,2,3]\n",
    "a[1:3]=[10]"
   ]
  },
  {
   "cell_type": "code",
   "execution_count": null,
   "id": "d2197598-afd2-4a0e-aa52-f57f6927abd6",
   "metadata": {},
   "outputs": [],
   "source": [
    "a"
   ]
  },
  {
   "cell_type": "code",
   "execution_count": null,
   "id": "add5d940-9ade-469d-8458-8c836a754fd5",
   "metadata": {},
   "outputs": [],
   "source": [
    "x"
   ]
  },
  {
   "cell_type": "code",
   "execution_count": null,
   "id": "394eabc6-f527-4fbc-9a05-97970cbae8d2",
   "metadata": {},
   "outputs": [],
   "source": [
    "x[1:2]=[]"
   ]
  },
  {
   "cell_type": "code",
   "execution_count": null,
   "id": "850d2923-c2be-4c81-b2c3-16fe600395f8",
   "metadata": {},
   "outputs": [],
   "source": [
    "x"
   ]
  },
  {
   "cell_type": "code",
   "execution_count": null,
   "id": "8ce2f299-dcb9-4d69-a2f6-9220c3bf2e89",
   "metadata": {},
   "outputs": [],
   "source": [
    "del x[0]"
   ]
  },
  {
   "cell_type": "code",
   "execution_count": null,
   "id": "7cdb0fe6-29f7-4521-87e9-b9277df4d60e",
   "metadata": {},
   "outputs": [],
   "source": [
    "x"
   ]
  },
  {
   "cell_type": "code",
   "execution_count": null,
   "id": "a14650d3-dac7-490f-8aa3-9ef76dcf6e8b",
   "metadata": {},
   "outputs": [],
   "source": [
    "x[1:1]=['test']"
   ]
  },
  {
   "cell_type": "code",
   "execution_count": null,
   "id": "50592b56-9112-415a-8b93-e16c435412a8",
   "metadata": {},
   "outputs": [],
   "source": [
    "x"
   ]
  },
  {
   "cell_type": "code",
   "execution_count": null,
   "id": "05d1cca0-85fc-45d7-950e-5c92d2742294",
   "metadata": {},
   "outputs": [],
   "source": [
    "a=[1,2,3,4,5,6]\n",
    "a[1:4]=[]\n",
    "a"
   ]
  },
  {
   "cell_type": "code",
   "execution_count": null,
   "id": "a157bbab-1ae7-4367-9201-7ca09c17f12f",
   "metadata": {},
   "outputs": [],
   "source": [
    "print(a)"
   ]
  },
  {
   "cell_type": "code",
   "execution_count": null,
   "id": "9990eeae-fe97-400a-915f-1a7607284c24",
   "metadata": {},
   "outputs": [],
   "source": [
    "a+=[7,8]\n",
    "a"
   ]
  },
  {
   "cell_type": "code",
   "execution_count": null,
   "id": "ffaa384d-d195-40ad-8fbe-efb5575f58fe",
   "metadata": {},
   "outputs": [],
   "source": [
    "a=[0,.2]+a"
   ]
  },
  {
   "cell_type": "code",
   "execution_count": null,
   "id": "9da2c9ea-3c80-49ef-a189-004df844fe4a",
   "metadata": {},
   "outputs": [],
   "source": [
    "a"
   ]
  },
  {
   "cell_type": "code",
   "execution_count": null,
   "id": "dba5e72d-8a3a-41f3-849c-816f108cb148",
   "metadata": {},
   "outputs": [],
   "source": [
    "a=[1,2,3]\n",
    "a=[10,9]+a"
   ]
  },
  {
   "cell_type": "code",
   "execution_count": null,
   "id": "d7d60762-d478-4479-a27e-1b3313877ba5",
   "metadata": {},
   "outputs": [],
   "source": [
    "a"
   ]
  },
  {
   "cell_type": "code",
   "execution_count": null,
   "id": "fc3a18e3-0836-4253-ba07-175223c4450d",
   "metadata": {},
   "outputs": [],
   "source": [
    "a=['a','b']\n",
    "a.append(123)\n",
    "a"
   ]
  },
  {
   "cell_type": "code",
   "execution_count": null,
   "id": "5a08f63f-66d3-4d1d-bf7b-3f1ccfe33c40",
   "metadata": {},
   "outputs": [],
   "source": [
    "a.append('foo')"
   ]
  },
  {
   "cell_type": "code",
   "execution_count": null,
   "id": "c3901841-4290-43a8-9160-8fc75dcc4b33",
   "metadata": {},
   "outputs": [],
   "source": [
    "a"
   ]
  },
  {
   "cell_type": "code",
   "execution_count": null,
   "id": "b48a0746-66dc-43a0-9b21-457809ddcee4",
   "metadata": {},
   "outputs": [],
   "source": [
    "a.extend('bax')"
   ]
  },
  {
   "cell_type": "code",
   "execution_count": null,
   "id": "a1145836-dcf7-4c12-871a-a9717b24528d",
   "metadata": {},
   "outputs": [],
   "source": [
    "a"
   ]
  },
  {
   "cell_type": "code",
   "execution_count": null,
   "id": "a04e9b23-da0c-42e7-a565-049cbca25e27",
   "metadata": {},
   "outputs": [],
   "source": [
    "a.insert(2,'c')\n",
    "a"
   ]
  },
  {
   "cell_type": "code",
   "execution_count": null,
   "id": "887741e0-def4-4afc-8621-f7335d4eb6de",
   "metadata": {},
   "outputs": [],
   "source": [
    "a.remove('c')\n",
    "a"
   ]
  },
  {
   "cell_type": "code",
   "execution_count": null,
   "id": "be9023ee-af18-41fa-9384-f7b022e7357f",
   "metadata": {},
   "outputs": [],
   "source": [
    "a.pop()"
   ]
  },
  {
   "cell_type": "code",
   "execution_count": null,
   "id": "dd8d4fc6-d3b3-430c-8964-2d22860fc29f",
   "metadata": {},
   "outputs": [],
   "source": [
    "a.pop(2)"
   ]
  },
  {
   "cell_type": "code",
   "execution_count": null,
   "id": "57f8a3eb-2a4a-4560-b751-c97ee0c1d648",
   "metadata": {},
   "outputs": [],
   "source": [
    "a"
   ]
  },
  {
   "cell_type": "code",
   "execution_count": null,
   "id": "d70e9b57-c3ed-4e45-ac90-d12d6a38a3d8",
   "metadata": {},
   "outputs": [],
   "source": [
    "a[2]=c"
   ]
  },
  {
   "cell_type": "code",
   "execution_count": null,
   "id": "557f9248-dd74-4374-9843-36ee38fd3b7b",
   "metadata": {},
   "outputs": [],
   "source": [
    "a"
   ]
  },
  {
   "cell_type": "code",
   "execution_count": null,
   "id": "58cf6047-10ed-4b38-94fa-e206dc911936",
   "metadata": {},
   "outputs": [],
   "source": [
    "a[2]='c'"
   ]
  },
  {
   "cell_type": "code",
   "execution_count": null,
   "id": "0412c1ac-7c83-4681-a3ae-f3be3a38da77",
   "metadata": {},
   "outputs": [],
   "source": [
    "a"
   ]
  },
  {
   "cell_type": "markdown",
   "id": "ddabb477-0bcb-4b4c-8e97-4a98b5713d65",
   "metadata": {
    "jp-MarkdownHeadingCollapsed": true,
    "tags": []
   },
   "source": [
    "# Tuples"
   ]
  },
  {
   "cell_type": "code",
   "execution_count": null,
   "id": "6345e79a-5703-434a-92b6-49de418cfd38",
   "metadata": {},
   "outputs": [],
   "source": [
    "t=(1,2,3,4)"
   ]
  },
  {
   "cell_type": "code",
   "execution_count": null,
   "id": "6a8feb80-a8f2-46f4-9894-6973ffa3dc16",
   "metadata": {},
   "outputs": [],
   "source": [
    "(a,b,c,d)=t"
   ]
  },
  {
   "cell_type": "code",
   "execution_count": null,
   "id": "c1e47287-4cb8-4068-9a54-5557f3f7534f",
   "metadata": {},
   "outputs": [],
   "source": [
    "t[0]"
   ]
  },
  {
   "cell_type": "code",
   "execution_count": null,
   "id": "dd4f0218-9113-4bb5-898e-10e06235d878",
   "metadata": {},
   "outputs": [],
   "source": [
    "a"
   ]
  },
  {
   "cell_type": "code",
   "execution_count": null,
   "id": "412d2e8b-7be4-48a0-b139-961a305e900d",
   "metadata": {},
   "outputs": [],
   "source": [
    "b"
   ]
  },
  {
   "cell_type": "code",
   "execution_count": null,
   "id": "66a12dfb-2292-4ef2-ad57-5ccc361ddb14",
   "metadata": {},
   "outputs": [],
   "source": [
    "c"
   ]
  },
  {
   "cell_type": "code",
   "execution_count": null,
   "id": "3f7f7a7d-2716-4f51-9aa9-6b97f014c99b",
   "metadata": {},
   "outputs": [],
   "source": [
    "d"
   ]
  },
  {
   "cell_type": "code",
   "execution_count": null,
   "id": "feea3aea-87ec-4404-8e90-6c1a7d10df98",
   "metadata": {},
   "outputs": [],
   "source": [
    "a=1\n",
    "b=2\n",
    "a,b"
   ]
  },
  {
   "cell_type": "code",
   "execution_count": null,
   "id": "e6939769-f9c4-457a-b94d-cae2a7e56b3d",
   "metadata": {},
   "outputs": [],
   "source": [
    "a,b=b,a"
   ]
  },
  {
   "cell_type": "code",
   "execution_count": null,
   "id": "da323f14-fb6b-44ea-9dfc-a3a92261ae59",
   "metadata": {},
   "outputs": [],
   "source": [
    "b"
   ]
  },
  {
   "cell_type": "code",
   "execution_count": null,
   "id": "a46ff70a-befa-4d32-b9a5-56556b2e2e04",
   "metadata": {},
   "outputs": [],
   "source": [
    "a"
   ]
  },
  {
   "cell_type": "code",
   "execution_count": null,
   "id": "53012c7f-7998-4cfe-ae2e-e5d2e8f572bf",
   "metadata": {},
   "outputs": [],
   "source": [
    "a=(1,2,3,4)"
   ]
  },
  {
   "cell_type": "code",
   "execution_count": null,
   "id": "d24a863e-1908-47b6-8bae-9a04dfca0753",
   "metadata": {},
   "outputs": [],
   "source": [
    "(w,x,y,z)=a"
   ]
  },
  {
   "cell_type": "code",
   "execution_count": null,
   "id": "a2612dac-43cd-4cc1-beb2-1b57c156025e",
   "metadata": {},
   "outputs": [],
   "source": [
    "w"
   ]
  },
  {
   "cell_type": "code",
   "execution_count": null,
   "id": "45a09799-1b38-4fe0-b71b-aa89ee44d97b",
   "metadata": {},
   "outputs": [],
   "source": [
    "z"
   ]
  },
  {
   "cell_type": "code",
   "execution_count": null,
   "id": "03b68bd5-45d7-45f3-a33d-25fda305963d",
   "metadata": {},
   "outputs": [],
   "source": [
    "t"
   ]
  },
  {
   "cell_type": "markdown",
   "id": "c4d683d2-e5df-4a54-8767-7668faaed31a",
   "metadata": {
    "tags": []
   },
   "source": [
    "# Dictionaries"
   ]
  },
  {
   "cell_type": "code",
   "execution_count": 1,
   "id": "b5fa22de-16fc-4f25-91d8-2cc752e4c8f4",
   "metadata": {},
   "outputs": [
    {
     "data": {
      "text/plain": [
       "{'daredeveil': 'kingpin', 'x-men': 'apocalypse', 'batman': 'bane'}"
      ]
     },
     "execution_count": 1,
     "metadata": {},
     "output_type": "execute_result"
    }
   ],
   "source": [
    "bad_guys = {\n",
    "    'daredeveil':'kingpin',\n",
    "    'x-men':'apocalypse',\n",
    "    'batman':'bane'\n",
    "}\n",
    "bad_guys"
   ]
  },
  {
   "cell_type": "code",
   "execution_count": 2,
   "id": "59fac8a3-c69b-40e4-9b9a-3124a2e6d49f",
   "metadata": {},
   "outputs": [
    {
     "data": {
      "text/plain": [
       "'bane'"
      ]
     },
     "execution_count": 2,
     "metadata": {},
     "output_type": "execute_result"
    }
   ],
   "source": [
    "bad_guys['batman']"
   ]
  },
  {
   "cell_type": "code",
   "execution_count": 3,
   "id": "00d96b30-3966-42d9-8f7e-2dcc139fbbd2",
   "metadata": {},
   "outputs": [
    {
     "data": {
      "text/plain": [
       "'apocalypse'"
      ]
     },
     "execution_count": 3,
     "metadata": {},
     "output_type": "execute_result"
    }
   ],
   "source": [
    "bad_guys['x-men']"
   ]
  },
  {
   "cell_type": "code",
   "execution_count": null,
   "id": "fdc63946-be8a-4955-a99e-16be65b947cb",
   "metadata": {},
   "outputs": [],
   "source": [
    "bad_guys['deadpool']='evil deadpool'"
   ]
  },
  {
   "cell_type": "code",
   "execution_count": null,
   "id": "6a71bec2-b5f1-4ccf-b433-d28a3f9b4795",
   "metadata": {},
   "outputs": [],
   "source": [
    "bad_guys"
   ]
  },
  {
   "cell_type": "code",
   "execution_count": null,
   "id": "4f6d56f6-9729-45ac-96d3-e89c03a8fce2",
   "metadata": {},
   "outputs": [],
   "source": [
    "del bad_guys['x-men']\n",
    "bad_guys"
   ]
  },
  {
   "cell_type": "code",
   "execution_count": null,
   "id": "40d3ed3f-3344-4886-8fd3-631d30b6c74a",
   "metadata": {},
   "outputs": [],
   "source": [
    "d={\n",
    "    0:'plane',\n",
    "    1:'train'\n",
    "}\n",
    "d[0]"
   ]
  },
  {
   "cell_type": "code",
   "execution_count": null,
   "id": "7136d792-012b-4d4a-9b09-3d19d38836ce",
   "metadata": {},
   "outputs": [],
   "source": [
    "d=dict([\n",
    "    (1,'eggs'),\n",
    "    (2,'bacon')\n",
    "])"
   ]
  },
  {
   "cell_type": "code",
   "execution_count": null,
   "id": "4fd7f7ef-c81a-4717-898c-1ab004d1d22e",
   "metadata": {},
   "outputs": [],
   "source": [
    "d"
   ]
  },
  {
   "cell_type": "code",
   "execution_count": null,
   "id": "737a7347-9ce0-4eb8-b285-7b843cbdc13e",
   "metadata": {},
   "outputs": [],
   "source": [
    "d=dict(\n",
    "    base='oatmeal',\n",
    "    topping='berries'\n",
    ")"
   ]
  },
  {
   "cell_type": "code",
   "execution_count": null,
   "id": "0e753803-c426-44ba-8846-f5c5397e63f8",
   "metadata": {},
   "outputs": [],
   "source": [
    "d"
   ]
  },
  {
   "cell_type": "code",
   "execution_count": null,
   "id": "10829d03-438a-4b18-ad83-309307a3fdc4",
   "metadata": {},
   "outputs": [],
   "source": [
    "d['second topping']='yoghurt'\n",
    "d"
   ]
  },
  {
   "cell_type": "code",
   "execution_count": null,
   "id": "a817a2f6-9666-45b5-92c2-a248a0e9f7d1",
   "metadata": {},
   "outputs": [],
   "source": [
    "del d['second topping']\n",
    "d"
   ]
  },
  {
   "cell_type": "code",
   "execution_count": 67,
   "id": "f497bf24-708c-4342-8d6b-276e0a711764",
   "metadata": {},
   "outputs": [
    {
     "data": {
      "text/plain": [
       "dict"
      ]
     },
     "execution_count": 67,
     "metadata": {},
     "output_type": "execute_result"
    }
   ],
   "source": [
    "family={}\n",
    "type(family)"
   ]
  },
  {
   "cell_type": "code",
   "execution_count": 68,
   "id": "55bae720-4b6e-4fd1-9845-5b776f1cb848",
   "metadata": {},
   "outputs": [],
   "source": [
    "family['Mom']='Sharon'"
   ]
  },
  {
   "cell_type": "code",
   "execution_count": 69,
   "id": "d73bcc6d-a090-43e6-888d-57e4194af0bf",
   "metadata": {},
   "outputs": [
    {
     "data": {
      "text/plain": [
       "{'Mom': 'Sharon'}"
      ]
     },
     "execution_count": 69,
     "metadata": {},
     "output_type": "execute_result"
    }
   ],
   "source": [
    "family"
   ]
  },
  {
   "cell_type": "code",
   "execution_count": 70,
   "id": "0556a9b5-27e7-4bb3-8f32-5d4edc115c5f",
   "metadata": {},
   "outputs": [
    {
     "data": {
      "text/plain": [
       "{'Mom': 'Sharon', 'Dad': 'James', 'Brother': 'Ryan', 'Sister': 'Erin'}"
      ]
     },
     "execution_count": 70,
     "metadata": {},
     "output_type": "execute_result"
    }
   ],
   "source": [
    "family['Dad']='James'\n",
    "family['Brother']='Ryan'\n",
    "family['Sister']='Erin'\n",
    "family"
   ]
  },
  {
   "cell_type": "code",
   "execution_count": 71,
   "id": "dd381b94-dd51-4c41-9ffc-3ca944953b91",
   "metadata": {},
   "outputs": [
    {
     "data": {
      "text/plain": [
       "'Erin'"
      ]
     },
     "execution_count": 71,
     "metadata": {},
     "output_type": "execute_result"
    }
   ],
   "source": [
    "family['Sister']"
   ]
  },
  {
   "cell_type": "code",
   "execution_count": 72,
   "id": "2ba8d68b-365b-4c10-9de2-a93084017c9e",
   "metadata": {},
   "outputs": [
    {
     "data": {
      "text/plain": [
       "{'Mom': 'Sharon',\n",
       " 'Dad': 'James',\n",
       " 'Brother': 'Ryan',\n",
       " 'Sister': 'Erin',\n",
       " 'Extended Family': ['Grandma', 'Grandpa', 'Becky', 'Bart']}"
      ]
     },
     "execution_count": 72,
     "metadata": {},
     "output_type": "execute_result"
    }
   ],
   "source": [
    "family['Extended Family']=['Grandma','Grandpa','Becky','Bart']\n",
    "family"
   ]
  },
  {
   "cell_type": "code",
   "execution_count": 73,
   "id": "d9f74475-5538-4e4f-a610-b3938cbe5020",
   "metadata": {},
   "outputs": [
    {
     "data": {
      "text/plain": [
       "'Grandma'"
      ]
     },
     "execution_count": 73,
     "metadata": {},
     "output_type": "execute_result"
    }
   ],
   "source": [
    "family['Extended Family'][0]"
   ]
  },
  {
   "cell_type": "code",
   "execution_count": 74,
   "id": "c32c990d-3855-449d-aa23-7a812511b068",
   "metadata": {},
   "outputs": [
    {
     "data": {
      "text/plain": [
       "{int: 1, float: 2, bool: 3}"
      ]
     },
     "execution_count": 74,
     "metadata": {},
     "output_type": "execute_result"
    }
   ],
   "source": [
    "d2={int:1,float:2,bool:3}\n",
    "d2"
   ]
  },
  {
   "cell_type": "code",
   "execution_count": 75,
   "id": "e4086eb0-6eca-48a9-b1b0-bdcddb2381da",
   "metadata": {},
   "outputs": [
    {
     "data": {
      "text/plain": [
       "True"
      ]
     },
     "execution_count": 75,
     "metadata": {},
     "output_type": "execute_result"
    }
   ],
   "source": [
    "'Mom' in family"
   ]
  },
  {
   "cell_type": "code",
   "execution_count": 76,
   "id": "fe9b5fe5-8745-4ed7-8ee5-b66313b0def5",
   "metadata": {},
   "outputs": [
    {
     "data": {
      "text/plain": [
       "False"
      ]
     },
     "execution_count": 76,
     "metadata": {},
     "output_type": "execute_result"
    }
   ],
   "source": [
    "'Sharon' in family"
   ]
  },
  {
   "cell_type": "code",
   "execution_count": 77,
   "id": "6ab1cc25-3c6d-4ce6-a33c-02e825d893fb",
   "metadata": {},
   "outputs": [
    {
     "data": {
      "text/plain": [
       "False"
      ]
     },
     "execution_count": 77,
     "metadata": {},
     "output_type": "execute_result"
    }
   ],
   "source": [
    "'Grandma' in family"
   ]
  },
  {
   "cell_type": "code",
   "execution_count": 78,
   "id": "99e90a56-640e-4925-a238-89b4365169ef",
   "metadata": {},
   "outputs": [
    {
     "data": {
      "text/plain": [
       "'Sharon'"
      ]
     },
     "execution_count": 78,
     "metadata": {},
     "output_type": "execute_result"
    }
   ],
   "source": [
    "'Mom' in family and family['Mom']"
   ]
  },
  {
   "cell_type": "code",
   "execution_count": 79,
   "id": "2d4853fd-0895-4e70-82e8-4441f0010a78",
   "metadata": {},
   "outputs": [
    {
     "data": {
      "text/plain": [
       "5"
      ]
     },
     "execution_count": 79,
     "metadata": {},
     "output_type": "execute_result"
    }
   ],
   "source": [
    "len(family)"
   ]
  },
  {
   "cell_type": "code",
   "execution_count": 80,
   "id": "4b3d1cbd-954d-4338-9255-5b149107571f",
   "metadata": {},
   "outputs": [],
   "source": [
    "d2.clear()"
   ]
  },
  {
   "cell_type": "code",
   "execution_count": 81,
   "id": "24b3aff3-eb75-4b5f-896f-884a59234586",
   "metadata": {},
   "outputs": [
    {
     "data": {
      "text/plain": [
       "{}"
      ]
     },
     "execution_count": 81,
     "metadata": {},
     "output_type": "execute_result"
    }
   ],
   "source": [
    "d2"
   ]
  },
  {
   "cell_type": "code",
   "execution_count": 82,
   "id": "bc06dc3b-1e76-4109-950a-90835c26cf0d",
   "metadata": {},
   "outputs": [
    {
     "name": "stdout",
     "output_type": "stream",
     "text": [
      "James\n"
     ]
    }
   ],
   "source": [
    "print(family.get('Dad'))"
   ]
  },
  {
   "cell_type": "code",
   "execution_count": 83,
   "id": "322550b1-9bf0-444d-a1e8-94b0cd9bf4ed",
   "metadata": {},
   "outputs": [
    {
     "name": "stdout",
     "output_type": "stream",
     "text": [
      "None\n"
     ]
    }
   ],
   "source": [
    "print(family.get('Aunt'))"
   ]
  },
  {
   "cell_type": "code",
   "execution_count": 84,
   "id": "3534a427-4a0e-4607-be92-60a82640b60d",
   "metadata": {},
   "outputs": [
    {
     "data": {
      "text/plain": [
       "{'Mom': 'Sharon', 'Dad': 'James', 'Brother': 'Ryan', 'Sister': 'Erin'}"
      ]
     },
     "execution_count": 84,
     "metadata": {},
     "output_type": "execute_result"
    }
   ],
   "source": [
    "del family['Extended Family']\n",
    "family"
   ]
  },
  {
   "cell_type": "code",
   "execution_count": 85,
   "id": "fd343fd9-f18b-42c8-a81d-f81a093a4edb",
   "metadata": {},
   "outputs": [
    {
     "data": {
      "text/plain": [
       "{'Mom': 'Sharon',\n",
       " 'Dad': 'James',\n",
       " 'Brother': 'Ryan',\n",
       " 'Sister': 'Erin',\n",
       " 'Grandma': 'Ellie',\n",
       " 'Grandpa': 'Bill',\n",
       " 'Aunt': 'Becky'}"
      ]
     },
     "execution_count": 85,
     "metadata": {},
     "output_type": "execute_result"
    }
   ],
   "source": [
    "family['Grandma']='Ellie'\n",
    "family['Grandpa']='Bill'\n",
    "family['Aunt']='Becky'\n",
    "family"
   ]
  },
  {
   "cell_type": "code",
   "execution_count": 86,
   "id": "273eaa6c-d7b4-4c03-863a-b295314786dc",
   "metadata": {},
   "outputs": [
    {
     "data": {
      "text/plain": [
       "7"
      ]
     },
     "execution_count": 86,
     "metadata": {},
     "output_type": "execute_result"
    }
   ],
   "source": [
    "len(family)"
   ]
  },
  {
   "cell_type": "code",
   "execution_count": 87,
   "id": "9d4b6e2c-c9a0-44e4-9b02-9b40596b6ee1",
   "metadata": {},
   "outputs": [],
   "source": [
    "family['Second Cousin']='Bart'"
   ]
  },
  {
   "cell_type": "code",
   "execution_count": 88,
   "id": "c8846072-2259-40d6-b80d-a3169b83eae7",
   "metadata": {},
   "outputs": [
    {
     "data": {
      "text/plain": [
       "{'Mom': 'Sharon',\n",
       " 'Dad': 'James',\n",
       " 'Brother': 'Ryan',\n",
       " 'Sister': 'Erin',\n",
       " 'Grandma': 'Ellie',\n",
       " 'Grandpa': 'Bill',\n",
       " 'Aunt': 'Becky',\n",
       " 'Second Cousin': 'Bart'}"
      ]
     },
     "execution_count": 88,
     "metadata": {},
     "output_type": "execute_result"
    }
   ],
   "source": [
    "family"
   ]
  },
  {
   "cell_type": "code",
   "execution_count": 89,
   "id": "99c035c0-e270-49b1-b75a-914ab0497cdb",
   "metadata": {},
   "outputs": [
    {
     "data": {
      "text/plain": [
       "'Becky'"
      ]
     },
     "execution_count": 89,
     "metadata": {},
     "output_type": "execute_result"
    }
   ],
   "source": [
    "family.get('Aunt')"
   ]
  },
  {
   "cell_type": "code",
   "execution_count": 90,
   "id": "955d2b17-9463-4507-810d-22deb586440f",
   "metadata": {},
   "outputs": [
    {
     "data": {
      "text/plain": [
       "'None'"
      ]
     },
     "execution_count": 90,
     "metadata": {},
     "output_type": "execute_result"
    }
   ],
   "source": [
    "family.get('Uncle','None')"
   ]
  },
  {
   "cell_type": "markdown",
   "id": "48c04af4-98d6-449b-9681-11ccf84ffcbd",
   "metadata": {},
   "source": []
  },
  {
   "cell_type": "code",
   "execution_count": 91,
   "id": "c8bb391a-eccc-4864-94c6-ce60ea671090",
   "metadata": {},
   "outputs": [
    {
     "data": {
      "text/plain": [
       "{'Mom': 'Sharon',\n",
       " 'Dad': 'James',\n",
       " 'Brother': 'Ryan',\n",
       " 'Sister': 'Erin',\n",
       " 'Grandma': 'Ellie',\n",
       " 'Grandpa': 'Bill',\n",
       " 'Aunt': 'Becky',\n",
       " 'Second Cousin': 'Bart'}"
      ]
     },
     "execution_count": 91,
     "metadata": {},
     "output_type": "execute_result"
    }
   ],
   "source": [
    "family"
   ]
  },
  {
   "cell_type": "code",
   "execution_count": 92,
   "id": "8aa0da22-2a38-4c06-96c4-98fe6a98dd05",
   "metadata": {},
   "outputs": [
    {
     "data": {
      "text/plain": [
       "dict_items([('Mom', 'Sharon'), ('Dad', 'James'), ('Brother', 'Ryan'), ('Sister', 'Erin'), ('Grandma', 'Ellie'), ('Grandpa', 'Bill'), ('Aunt', 'Becky'), ('Second Cousin', 'Bart')])"
      ]
     },
     "execution_count": 92,
     "metadata": {},
     "output_type": "execute_result"
    }
   ],
   "source": [
    "family.items()"
   ]
  },
  {
   "cell_type": "code",
   "execution_count": 93,
   "id": "6a32779e-2688-4a9f-99da-65623d2dfccf",
   "metadata": {},
   "outputs": [
    {
     "data": {
      "text/plain": [
       "dict_keys(['Mom', 'Dad', 'Brother', 'Sister', 'Grandma', 'Grandpa', 'Aunt', 'Second Cousin'])"
      ]
     },
     "execution_count": 93,
     "metadata": {},
     "output_type": "execute_result"
    }
   ],
   "source": [
    "family.keys()"
   ]
  },
  {
   "cell_type": "code",
   "execution_count": 94,
   "id": "308f3979-85e6-4631-a48e-53fd3c1d4d6b",
   "metadata": {},
   "outputs": [
    {
     "data": {
      "text/plain": [
       "['Mom',\n",
       " 'Dad',\n",
       " 'Brother',\n",
       " 'Sister',\n",
       " 'Grandma',\n",
       " 'Grandpa',\n",
       " 'Aunt',\n",
       " 'Second Cousin']"
      ]
     },
     "execution_count": 94,
     "metadata": {},
     "output_type": "execute_result"
    }
   ],
   "source": [
    "list(family.keys())"
   ]
  },
  {
   "cell_type": "code",
   "execution_count": 95,
   "id": "b0c66406-c45f-4342-9d62-1c90eccc362d",
   "metadata": {},
   "outputs": [
    {
     "data": {
      "text/plain": [
       "8"
      ]
     },
     "execution_count": 95,
     "metadata": {},
     "output_type": "execute_result"
    }
   ],
   "source": [
    "len(family.keys())"
   ]
  },
  {
   "cell_type": "code",
   "execution_count": 96,
   "id": "ff928108-a6e5-46b5-80d1-e2bef7775532",
   "metadata": {},
   "outputs": [
    {
     "data": {
      "text/plain": [
       "dict_values(['Sharon', 'James', 'Ryan', 'Erin', 'Ellie', 'Bill', 'Becky', 'Bart'])"
      ]
     },
     "execution_count": 96,
     "metadata": {},
     "output_type": "execute_result"
    }
   ],
   "source": [
    "family.values()"
   ]
  },
  {
   "cell_type": "code",
   "execution_count": 97,
   "id": "4d1c3532-60a2-4724-a1ff-03e021c2054e",
   "metadata": {},
   "outputs": [
    {
     "data": {
      "text/plain": [
       "'Bart'"
      ]
     },
     "execution_count": 97,
     "metadata": {},
     "output_type": "execute_result"
    }
   ],
   "source": [
    "family.pop('Second Cousin')"
   ]
  },
  {
   "cell_type": "code",
   "execution_count": 98,
   "id": "b61d34ef-c5c1-447e-85bd-e4386c77781e",
   "metadata": {},
   "outputs": [
    {
     "data": {
      "text/plain": [
       "{'Mom': 'Sharon',\n",
       " 'Dad': 'James',\n",
       " 'Brother': 'Ryan',\n",
       " 'Sister': 'Erin',\n",
       " 'Grandma': 'Ellie',\n",
       " 'Grandpa': 'Bill',\n",
       " 'Aunt': 'Becky'}"
      ]
     },
     "execution_count": 98,
     "metadata": {},
     "output_type": "execute_result"
    }
   ],
   "source": [
    "family"
   ]
  },
  {
   "cell_type": "code",
   "execution_count": 99,
   "id": "67cb289a-46a6-4d38-8e0f-c55c20f77641",
   "metadata": {},
   "outputs": [
    {
     "data": {
      "text/plain": [
       "('Aunt', 'Becky')"
      ]
     },
     "execution_count": 99,
     "metadata": {},
     "output_type": "execute_result"
    }
   ],
   "source": [
    "family.popitem()"
   ]
  },
  {
   "cell_type": "code",
   "execution_count": 100,
   "id": "4a1bb190-8085-4c89-b42d-9a0cdac87530",
   "metadata": {},
   "outputs": [],
   "source": [
    "family2={\n",
    "    'Aunt':'Becky',\n",
    "    'Second Cousin':'Bart'\n",
    "}\n",
    "family.update(family2)"
   ]
  },
  {
   "cell_type": "code",
   "execution_count": 101,
   "id": "9f21829a-bdbc-4f3d-ab9b-e4f62663036b",
   "metadata": {},
   "outputs": [
    {
     "data": {
      "text/plain": [
       "{'Mom': 'Sharon',\n",
       " 'Dad': 'James',\n",
       " 'Brother': 'Ryan',\n",
       " 'Sister': 'Erin',\n",
       " 'Grandma': 'Ellie',\n",
       " 'Grandpa': 'Bill',\n",
       " 'Aunt': 'Becky',\n",
       " 'Second Cousin': 'Bart'}"
      ]
     },
     "execution_count": 101,
     "metadata": {},
     "output_type": "execute_result"
    }
   ],
   "source": [
    "family"
   ]
  },
  {
   "cell_type": "code",
   "execution_count": 102,
   "id": "f7886fa6-38bd-481f-9ef9-0d38a42f0f31",
   "metadata": {},
   "outputs": [
    {
     "data": {
      "text/plain": [
       "{'Mom': 'Sharon',\n",
       " 'Dad': 'James',\n",
       " 'Brother': 'Ryan',\n",
       " 'Sister': 'Erin',\n",
       " 'Grandma': 'Ellie',\n",
       " 'Grandpa': 'Bill',\n",
       " 'Aunt': 'Becky',\n",
       " 'Second Cousin': 'Bart',\n",
       " 'Cousin': 'Thomas'}"
      ]
     },
     "execution_count": 102,
     "metadata": {},
     "output_type": "execute_result"
    }
   ],
   "source": [
    "family.update([\n",
    "    ('Cousin','Thomas')\n",
    "])\n",
    "family"
   ]
  },
  {
   "cell_type": "code",
   "execution_count": 103,
   "id": "8f08dc80-69d2-4229-8b00-e4510eacf89f",
   "metadata": {},
   "outputs": [
    {
     "data": {
      "text/plain": [
       "{'Mom': 'Sharon',\n",
       " 'Dad': 'James',\n",
       " 'Brother': 'Ryan',\n",
       " 'Sister': 'Erin',\n",
       " 'Grandma': 'Ellie',\n",
       " 'Grandpa': 'Bill',\n",
       " 'Aunt': 'Becky',\n",
       " 'Second Cousin': 'Bart',\n",
       " 'Cousin': 'Thomas',\n",
       " 'Cousin2': 'Ellen'}"
      ]
     },
     "execution_count": 103,
     "metadata": {},
     "output_type": "execute_result"
    }
   ],
   "source": [
    "family.update(\n",
    "    Cousin2='Ellen'\n",
    ")\n",
    "family"
   ]
  },
  {
   "cell_type": "code",
   "execution_count": 104,
   "id": "bc5f5467-4c5e-41e5-a08c-ece5b836f507",
   "metadata": {},
   "outputs": [
    {
     "data": {
      "text/plain": [
       "['a', 'b', 'c', 'd', 'e']"
      ]
     },
     "execution_count": 104,
     "metadata": {},
     "output_type": "execute_result"
    }
   ],
   "source": [
    "a=['a','b','c']\n",
    "a[len(a):]=['d','e']\n",
    "a"
   ]
  },
  {
   "cell_type": "code",
   "execution_count": 105,
   "id": "7c22cb00-885a-4890-bf13-4222ae0ee393",
   "metadata": {},
   "outputs": [
    {
     "data": {
      "text/plain": [
       "['a', 'b', 'c', 'd', 'e']"
      ]
     },
     "execution_count": 105,
     "metadata": {},
     "output_type": "execute_result"
    }
   ],
   "source": [
    "a=['a','b','c']\n",
    "a.extend(['d','e'])\n",
    "a"
   ]
  },
  {
   "cell_type": "code",
   "execution_count": 106,
   "id": "181abf59-54e0-43e3-ac1a-4d90cab7e636",
   "metadata": {},
   "outputs": [],
   "source": [
    "a+=['d','e']"
   ]
  },
  {
   "cell_type": "code",
   "execution_count": 107,
   "id": "ab11d57a-7c7f-4d45-a065-c41d5e043f76",
   "metadata": {},
   "outputs": [
    {
     "data": {
      "text/plain": [
       "['a', 'b', 'c', 'd', 'e', 'd', 'e']"
      ]
     },
     "execution_count": 107,
     "metadata": {},
     "output_type": "execute_result"
    }
   ],
   "source": [
    "a"
   ]
  },
  {
   "cell_type": "code",
   "execution_count": 108,
   "id": "996713a3-e125-4ae2-9b64-ec3a900b82d1",
   "metadata": {},
   "outputs": [
    {
     "data": {
      "text/plain": [
       "['a', 'b', 'c', 'd', 'e', 'd', 'e', ['d', 'e']]"
      ]
     },
     "execution_count": 108,
     "metadata": {},
     "output_type": "execute_result"
    }
   ],
   "source": [
    "a.append(['d','e'])\n",
    "a"
   ]
  },
  {
   "cell_type": "markdown",
   "id": "42bb1675-d446-4386-b6ba-d814d2a2c1d1",
   "metadata": {
    "tags": []
   },
   "source": [
    "# Conditionals"
   ]
  },
  {
   "cell_type": "code",
   "execution_count": 2,
   "id": "fe004dd2-14fc-42c5-9684-740fbb682a2b",
   "metadata": {},
   "outputs": [],
   "source": [
    "x=10\n",
    "y=3"
   ]
  },
  {
   "cell_type": "code",
   "execution_count": 3,
   "id": "4d621763-ee84-46ab-aae7-68a0007c5e6c",
   "metadata": {},
   "outputs": [
    {
     "name": "stdout",
     "output_type": "stream",
     "text": [
      "10 is greater than 3\n"
     ]
    }
   ],
   "source": [
    "if x > y:\n",
    "    print(f'{x} is greater than {y}')"
   ]
  },
  {
   "cell_type": "code",
   "execution_count": 111,
   "id": "0a3512a2-9c7b-4809-ac41-59a0c81d7882",
   "metadata": {},
   "outputs": [
    {
     "name": "stdout",
     "output_type": "stream",
     "text": [
      "Yes, its a sport\n"
     ]
    }
   ],
   "source": [
    "sports_list = ['baseball','hockey','dodgeball']\n",
    "if 'dodgeball' in sports_list:\n",
    "    print('Yes, its a sport')"
   ]
  },
  {
   "cell_type": "code",
   "execution_count": 112,
   "id": "17e87833-a61a-4ba2-aba8-871ef09fc8b8",
   "metadata": {},
   "outputs": [
    {
     "name": "stdout",
     "output_type": "stream",
     "text": [
      "Total Calories Today: 250\n",
      "Eat a larger portion.\n"
     ]
    }
   ],
   "source": [
    "cals_consumed = 150\n",
    "cals_in_item = 100\n",
    "total_cals = cals_consumed + cals_in_item\n",
    "print(f\"Total Calories Today: {total_cals}\")\n",
    "\n",
    "if total_cals >= 1600:\n",
    "    print(\"Don't eat it!\")\n",
    "elif total_cals < 300:\n",
    "    print('Eat a larger portion.')\n",
    "else:\n",
    "    print(\"Sure you can eat.\")"
   ]
  },
  {
   "cell_type": "code",
   "execution_count": 113,
   "id": "9459d07a-33d9-4004-ba8f-66a948a41c38",
   "metadata": {},
   "outputs": [
    {
     "data": {
      "text/plain": [
       "True"
      ]
     },
     "execution_count": 113,
     "metadata": {},
     "output_type": "execute_result"
    }
   ],
   "source": [
    "bool(x)"
   ]
  },
  {
   "cell_type": "code",
   "execution_count": 114,
   "id": "ea763483-69c3-4d17-bef2-16c112065174",
   "metadata": {},
   "outputs": [
    {
     "data": {
      "text/plain": [
       "False"
      ]
     },
     "execution_count": 114,
     "metadata": {},
     "output_type": "execute_result"
    }
   ],
   "source": [
    "x=0\n",
    "bool(x)"
   ]
  },
  {
   "cell_type": "code",
   "execution_count": 115,
   "id": "643fd751-8f9f-4324-a2ec-caf698606430",
   "metadata": {},
   "outputs": [
    {
     "data": {
      "text/plain": [
       "True"
      ]
     },
     "execution_count": 115,
     "metadata": {},
     "output_type": "execute_result"
    }
   ],
   "source": [
    "y=5\n",
    "bool(5)"
   ]
  },
  {
   "cell_type": "code",
   "execution_count": 116,
   "id": "1ad70776-cfab-4568-8ddd-d6ef249adf71",
   "metadata": {},
   "outputs": [
    {
     "name": "stdout",
     "output_type": "stream",
     "text": [
      "You need to study for 3 more hour(s)\n"
     ]
    }
   ],
   "source": [
    "study_hours=1\n",
    "\n",
    "if study_hours >= 4:\n",
    "    print(\"You can watch TV\")\n",
    "else:\n",
    "    print(\"You need to study for\", 4-study_hours,\"more hour(s)\")"
   ]
  },
  {
   "cell_type": "code",
   "execution_count": 117,
   "id": "ec470196-48fe-49d3-a587-4b592c418747",
   "metadata": {},
   "outputs": [
    {
     "data": {
      "text/plain": [
       "'Good job on the studying, go watch This is Us'"
      ]
     },
     "execution_count": 117,
     "metadata": {},
     "output_type": "execute_result"
    }
   ],
   "source": [
    "study_hours = 5\n",
    "\n",
    "\"No TV for you\" if study_hours < 4 else \"Good job on the studying, go watch This is Us\""
   ]
  },
  {
   "cell_type": "markdown",
   "id": "37b2eac9-df26-4988-bedf-ef9797ebe36a",
   "metadata": {},
   "source": [
    "# While Loops"
   ]
  },
  {
   "cell_type": "code",
   "execution_count": 118,
   "id": "0e864318-db19-48b3-8a4c-31ab129b57aa",
   "metadata": {},
   "outputs": [
    {
     "name": "stdout",
     "output_type": "stream",
     "text": [
      "4\n",
      "3\n",
      "2\n",
      "1\n",
      "0\n"
     ]
    }
   ],
   "source": [
    "n=5\n",
    "while n > 0:\n",
    "    n=n-1\n",
    "    print(n)"
   ]
  },
  {
   "cell_type": "code",
   "execution_count": 119,
   "id": "3cf7ec41-29ab-4023-ba03-6b56beb00351",
   "metadata": {},
   "outputs": [
    {
     "name": "stdout",
     "output_type": "stream",
     "text": [
      "buzz\n",
      "baz\n",
      "fizz\n"
     ]
    }
   ],
   "source": [
    "a = ['fizz','baz','buzz']\n",
    "while a:\n",
    "    print(a.pop(-1))"
   ]
  },
  {
   "cell_type": "code",
   "execution_count": 120,
   "id": "8971bb19-8f9d-4be5-9064-b2714e7a19ad",
   "metadata": {},
   "outputs": [
    {
     "name": "stdout",
     "output_type": "stream",
     "text": [
      "4\n",
      "3\n",
      "Loop ended\n"
     ]
    }
   ],
   "source": [
    "n=5\n",
    "while n > 0:\n",
    "    n-=1\n",
    "    if n==2:\n",
    "        break\n",
    "    print(n)\n",
    "print('Loop ended')"
   ]
  },
  {
   "cell_type": "code",
   "execution_count": 121,
   "id": "91eb5c98-246f-4798-bfa5-faa85165c9e8",
   "metadata": {},
   "outputs": [
    {
     "name": "stdout",
     "output_type": "stream",
     "text": [
      "4\n",
      "3\n",
      "1\n",
      "0\n",
      "Loop ended\n"
     ]
    }
   ],
   "source": [
    "n=5\n",
    "while n > 0:\n",
    "    n-=1\n",
    "    if n==2:\n",
    "        continue\n",
    "    print(n)\n",
    "print('Loop ended')"
   ]
  },
  {
   "cell_type": "code",
   "execution_count": 122,
   "id": "2a04550b-5c9c-4236-b3df-5f3b2a9c7729",
   "metadata": {},
   "outputs": [
    {
     "name": "stdout",
     "output_type": "stream",
     "text": [
      "5\n",
      "4\n",
      "3\n",
      "2\n",
      "1\n"
     ]
    }
   ],
   "source": [
    "a=[1,2,3,4,5]\n",
    "\n",
    "while True:\n",
    "    if not a:\n",
    "        break\n",
    "    print(a.pop(-1))\n"
   ]
  },
  {
   "cell_type": "code",
   "execution_count": 123,
   "id": "07ddaba6-74af-40f5-aed2-173984ae2961",
   "metadata": {},
   "outputs": [
    {
     "name": "stdout",
     "output_type": "stream",
     "text": [
      "[1, 2, 3, 4, 5, 1]\n",
      "[1, 2, 3, 4, 5, 1, 1]\n",
      "[1, 2, 3, 4, 5, 1, 1, 1]\n",
      "[1, 2, 3, 4, 5, 1, 1, 1, 1]\n",
      "[1, 2, 3, 4, 5, 1, 1, 1, 1, 1]\n",
      "[1, 2, 3, 4, 5, 1, 1, 1, 1, 1, 1]\n"
     ]
    }
   ],
   "source": [
    "a=[1,2,3,4,5]\n",
    "\n",
    "while True:\n",
    "    if len(a) > 10:\n",
    "        break\n",
    "    a.extend([1])\n",
    "    print(a)"
   ]
  },
  {
   "cell_type": "code",
   "execution_count": 124,
   "id": "fe613f9a-b421-429f-8071-8c5ab9bb39be",
   "metadata": {},
   "outputs": [],
   "source": [
    "a.extend([1])"
   ]
  },
  {
   "cell_type": "code",
   "execution_count": 125,
   "id": "1ec97963-0714-407d-b9f9-5df541311a71",
   "metadata": {},
   "outputs": [
    {
     "data": {
      "text/plain": [
       "[1, 2, 3, 4, 5, 1, 1, 1, 1, 1, 1, 1]"
      ]
     },
     "execution_count": 125,
     "metadata": {},
     "output_type": "execute_result"
    }
   ],
   "source": [
    "a"
   ]
  },
  {
   "cell_type": "code",
   "execution_count": 126,
   "id": "aba26b42-cd9a-43a6-85b5-733c414bef91",
   "metadata": {},
   "outputs": [
    {
     "data": {
      "text/plain": [
       "[1, 2, 3, 4, 5, 1, 1, 1, 1, 1, 1, 'hi', 1]"
      ]
     },
     "execution_count": 126,
     "metadata": {},
     "output_type": "execute_result"
    }
   ],
   "source": [
    "a.insert(-1,'hi')\n",
    "a"
   ]
  },
  {
   "cell_type": "code",
   "execution_count": 127,
   "id": "7247bc70-73c5-4395-9ed2-01aec1ff0948",
   "metadata": {},
   "outputs": [],
   "source": [
    "a.insert(0,'hi')"
   ]
  },
  {
   "cell_type": "code",
   "execution_count": 128,
   "id": "e9f9a72e-ebc8-47d4-8caa-19a76fa5fd96",
   "metadata": {},
   "outputs": [
    {
     "data": {
      "text/plain": [
       "['hi', 1, 2, 3, 4, 5, 1, 1, 1, 1, 1, 1, 'hi', 1]"
      ]
     },
     "execution_count": 128,
     "metadata": {},
     "output_type": "execute_result"
    }
   ],
   "source": [
    "a"
   ]
  },
  {
   "cell_type": "code",
   "execution_count": 129,
   "id": "025f8c36-4f33-4296-9928-0dd8237f6553",
   "metadata": {},
   "outputs": [],
   "source": [
    "a.remove('hi')"
   ]
  },
  {
   "cell_type": "code",
   "execution_count": 130,
   "id": "115e04ce-5fed-4564-81e2-f975773a01f5",
   "metadata": {},
   "outputs": [
    {
     "data": {
      "text/plain": [
       "[1, 2, 3, 4, 5, 1, 1, 1, 1, 1, 1, 'hi', 1]"
      ]
     },
     "execution_count": 130,
     "metadata": {},
     "output_type": "execute_result"
    }
   ],
   "source": [
    "a"
   ]
  },
  {
   "cell_type": "code",
   "execution_count": 131,
   "id": "49443de7-ca73-462d-83f4-4ab44aa5c4bb",
   "metadata": {},
   "outputs": [
    {
     "data": {
      "text/plain": [
       "[1, 2, 3, 4, 5, 1, 1, 1, 1, 1, 1, 'hi', 1, 'hi']"
      ]
     },
     "execution_count": 131,
     "metadata": {},
     "output_type": "execute_result"
    }
   ],
   "source": [
    "a.append('hi')\n",
    "a"
   ]
  },
  {
   "cell_type": "code",
   "execution_count": 132,
   "id": "256088c3-3188-48cf-819f-2b09010d144f",
   "metadata": {},
   "outputs": [
    {
     "data": {
      "text/plain": [
       "[1, 2, 3, 4, 5, 1, 1, 1, 1, 1, 1, 'hi', 1, 'hi', 3]"
      ]
     },
     "execution_count": 132,
     "metadata": {},
     "output_type": "execute_result"
    }
   ],
   "source": [
    "a.extend([3])\n",
    "a"
   ]
  },
  {
   "cell_type": "code",
   "execution_count": 133,
   "id": "9ccc9a7e-5e91-46d3-9ae1-2d8b79298616",
   "metadata": {},
   "outputs": [
    {
     "name": "stdout",
     "output_type": "stream",
     "text": [
      "[1, 2, 3, 4, 5, 1, 1, 1, 1, 1, 1, 1, 3]\n"
     ]
    }
   ],
   "source": [
    "while 'hi' in a:\n",
    "    a.remove('hi')\n",
    "print(a)"
   ]
  },
  {
   "cell_type": "code",
   "execution_count": 134,
   "id": "3627bdc5-7d1d-4432-9591-94e3bb412479",
   "metadata": {},
   "outputs": [
    {
     "name": "stdout",
     "output_type": "stream",
     "text": [
      "[2, 3, 4, 5, 3]\n"
     ]
    }
   ],
   "source": [
    "while 1 in a:\n",
    "    a.remove(1)\n",
    "print(a)"
   ]
  },
  {
   "cell_type": "markdown",
   "id": "432e5b56-5d19-4eb0-853e-8ee28d7c97e4",
   "metadata": {},
   "source": [
    "# For Loops"
   ]
  },
  {
   "cell_type": "code",
   "execution_count": 135,
   "id": "92ce3ae4-df91-4a0b-b473-8209d3b9b5c6",
   "metadata": {},
   "outputs": [
    {
     "data": {
      "text/plain": [
       "<list_iterator at 0x24fe6e9b4c0>"
      ]
     },
     "execution_count": 135,
     "metadata": {},
     "output_type": "execute_result"
    }
   ],
   "source": [
    "iter(a)"
   ]
  },
  {
   "cell_type": "code",
   "execution_count": 136,
   "id": "030734b8-fd9f-494b-82e0-86bff4427fd8",
   "metadata": {},
   "outputs": [],
   "source": [
    "itr=iter(a)"
   ]
  },
  {
   "cell_type": "code",
   "execution_count": 137,
   "id": "c6a7ad70-bed0-4a02-912b-4239fc36ac75",
   "metadata": {},
   "outputs": [
    {
     "data": {
      "text/plain": [
       "<function iter>"
      ]
     },
     "execution_count": 137,
     "metadata": {},
     "output_type": "execute_result"
    }
   ],
   "source": [
    "iter"
   ]
  },
  {
   "cell_type": "code",
   "execution_count": 138,
   "id": "c17f1b73-a45e-4358-b8b8-992a31c27182",
   "metadata": {},
   "outputs": [
    {
     "ename": "TypeError",
     "evalue": "'builtin_function_or_method' object is not an iterator",
     "output_type": "error",
     "traceback": [
      "\u001b[1;31m---------------------------------------------------------------------------\u001b[0m",
      "\u001b[1;31mTypeError\u001b[0m                                 Traceback (most recent call last)",
      "Input \u001b[1;32mIn [138]\u001b[0m, in \u001b[0;36m<cell line: 1>\u001b[1;34m()\u001b[0m\n\u001b[1;32m----> 1\u001b[0m \u001b[38;5;28;43mnext\u001b[39;49m\u001b[43m(\u001b[49m\u001b[38;5;28;43miter\u001b[39;49m\u001b[43m)\u001b[49m\n",
      "\u001b[1;31mTypeError\u001b[0m: 'builtin_function_or_method' object is not an iterator"
     ]
    }
   ],
   "source": [
    "next(iter)"
   ]
  },
  {
   "cell_type": "code",
   "execution_count": null,
   "id": "2dc16bf8-a810-4f4f-99fb-fd788d0acd8d",
   "metadata": {},
   "outputs": [],
   "source": [
    "next(iter)"
   ]
  },
  {
   "cell_type": "code",
   "execution_count": null,
   "id": "51ac7c3d-711f-4214-8c4a-07414b80698e",
   "metadata": {},
   "outputs": [],
   "source": [
    "next(iter)"
   ]
  },
  {
   "cell_type": "code",
   "execution_count": null,
   "id": "b5f037f0-d3e9-43f9-b446-ddf307127f1a",
   "metadata": {},
   "outputs": [],
   "source": [
    "next(iter)"
   ]
  },
  {
   "cell_type": "code",
   "execution_count": null,
   "id": "db47d7c9-9aba-4d77-8dd0-dbacad75bb4a",
   "metadata": {},
   "outputs": [],
   "source": [
    "next(iter)"
   ]
  },
  {
   "cell_type": "code",
   "execution_count": null,
   "id": "f97bfb99-b904-49d6-aee8-e27744fa1998",
   "metadata": {},
   "outputs": [],
   "source": [
    "next(iter)"
   ]
  },
  {
   "cell_type": "code",
   "execution_count": null,
   "id": "62158706-0133-4831-89e9-a8fafa4b5671",
   "metadata": {},
   "outputs": [],
   "source": [
    "list(iter)"
   ]
  },
  {
   "cell_type": "code",
   "execution_count": null,
   "id": "6d694e7f-e879-4e9a-be81-811cf990dd9d",
   "metadata": {},
   "outputs": [],
   "source": [
    "a"
   ]
  },
  {
   "cell_type": "code",
   "execution_count": null,
   "id": "7e784d73-ec19-42f0-96fb-f44f02dd72bb",
   "metadata": {},
   "outputs": [],
   "source": [
    "next(a)"
   ]
  },
  {
   "cell_type": "code",
   "execution_count": null,
   "id": "8835d18e-6429-4424-87fb-72abb7fb7e65",
   "metadata": {},
   "outputs": [],
   "source": [
    "iter(a)"
   ]
  },
  {
   "cell_type": "code",
   "execution_count": null,
   "id": "13e51b70-9d22-4d97-b979-5b30de61badd",
   "metadata": {},
   "outputs": [],
   "source": [
    "a"
   ]
  },
  {
   "cell_type": "code",
   "execution_count": null,
   "id": "b2135d1c-f19f-457b-a971-08412c7acdab",
   "metadata": {},
   "outputs": [],
   "source": [
    "iter(a)"
   ]
  },
  {
   "cell_type": "code",
   "execution_count": null,
   "id": "b4b4bc27-0d70-4bfa-b501-e4e839e7bf79",
   "metadata": {},
   "outputs": [],
   "source": [
    "b = [1,2,3,4,5]"
   ]
  },
  {
   "cell_type": "code",
   "execution_count": null,
   "id": "d2dc51e0-b870-4f60-a92c-5fae47f878ce",
   "metadata": {},
   "outputs": [],
   "source": [
    "b"
   ]
  },
  {
   "cell_type": "code",
   "execution_count": null,
   "id": "70263488-1a3f-4280-9ece-8e9732ba17d2",
   "metadata": {},
   "outputs": [],
   "source": [
    "type(b)"
   ]
  },
  {
   "cell_type": "code",
   "execution_count": null,
   "id": "08b4ee43-3b42-4384-b1c8-776c5e078ee0",
   "metadata": {},
   "outputs": [],
   "source": [
    "del iter"
   ]
  },
  {
   "cell_type": "code",
   "execution_count": null,
   "id": "9deb7469-e94c-47b9-b8de-de18d4811681",
   "metadata": {},
   "outputs": [],
   "source": [
    "iter(b)"
   ]
  },
  {
   "cell_type": "code",
   "execution_count": null,
   "id": "6a1d308d-8def-4ddd-ac83-c44f688988d0",
   "metadata": {},
   "outputs": [],
   "source": [
    "a"
   ]
  },
  {
   "cell_type": "code",
   "execution_count": null,
   "id": "dbe83434-55e0-4aa4-bd48-2c11545df86a",
   "metadata": {},
   "outputs": [],
   "source": [
    "c = iter(a)"
   ]
  },
  {
   "cell_type": "code",
   "execution_count": null,
   "id": "94175934-1f00-4e27-9e09-d3e72649eeb2",
   "metadata": {},
   "outputs": [],
   "source": [
    "next(c)"
   ]
  },
  {
   "cell_type": "code",
   "execution_count": null,
   "id": "577ebabb-d5b8-4b80-a7b4-831e1489b9bb",
   "metadata": {},
   "outputs": [],
   "source": [
    "list(c)"
   ]
  },
  {
   "cell_type": "code",
   "execution_count": null,
   "id": "20d11e9b-39c9-4fee-bb24-9823aa31b096",
   "metadata": {},
   "outputs": [],
   "source": [
    "d = iter(a)"
   ]
  },
  {
   "cell_type": "code",
   "execution_count": null,
   "id": "d69f6488-77a1-448e-a96a-8383c89a3cfe",
   "metadata": {},
   "outputs": [],
   "source": [
    "list(d)"
   ]
  },
  {
   "cell_type": "code",
   "execution_count": null,
   "id": "2e896156-2137-4d3d-9838-c142989ea6d9",
   "metadata": {},
   "outputs": [],
   "source": [
    "tuple(d)"
   ]
  },
  {
   "cell_type": "code",
   "execution_count": null,
   "id": "35a8c714-02ca-4e50-828a-63af5038e9eb",
   "metadata": {},
   "outputs": [],
   "source": [
    "d"
   ]
  },
  {
   "cell_type": "code",
   "execution_count": null,
   "id": "fac5339d-ef84-4246-9b8f-40d70b410577",
   "metadata": {},
   "outputs": [],
   "source": [
    "list(d)"
   ]
  },
  {
   "cell_type": "code",
   "execution_count": null,
   "id": "8f19042f-28d2-4719-b93e-e15a3c969cb1",
   "metadata": {},
   "outputs": [],
   "source": [
    "e = ['foo', 'bar', 'baz']\n",
    "for i in e:\n",
    "    print(i)"
   ]
  },
  {
   "cell_type": "code",
   "execution_count": 139,
   "id": "d2db6d4a-7bf4-4a25-9339-57919c494396",
   "metadata": {},
   "outputs": [
    {
     "name": "stdout",
     "output_type": "stream",
     "text": [
      "Mom\n",
      "Dad\n",
      "Brother\n",
      "Sister\n",
      "Grandma\n",
      "Grandpa\n",
      "Aunt\n",
      "Second Cousin\n",
      "Cousin\n",
      "Cousin2\n"
     ]
    }
   ],
   "source": [
    "for i in family:\n",
    "    print(i)"
   ]
  },
  {
   "cell_type": "code",
   "execution_count": 140,
   "id": "e799105a-94dc-485c-98f9-724fc22716bd",
   "metadata": {},
   "outputs": [
    {
     "name": "stdout",
     "output_type": "stream",
     "text": [
      "Sharon\n",
      "James\n",
      "Ryan\n",
      "Erin\n",
      "Ellie\n",
      "Bill\n",
      "Becky\n",
      "Bart\n",
      "Thomas\n",
      "Ellen\n"
     ]
    }
   ],
   "source": [
    "for v in family.values():\n",
    "    print(v)\n",
    "    "
   ]
  },
  {
   "cell_type": "code",
   "execution_count": 178,
   "id": "21bc1fc8-aa19-4994-b322-21c66eba3462",
   "metadata": {},
   "outputs": [
    {
     "name": "stdout",
     "output_type": "stream",
     "text": [
      "k =  Mom , v =  Sharon\n",
      "k =  Dad , v =  James\n",
      "k =  Brother , v =  Ryan\n",
      "k =  Sister , v =  Erin\n",
      "k =  Grandma , v =  Ellie\n",
      "k =  Grandpa , v =  Bill\n",
      "k =  Aunt , v =  Becky\n",
      "k =  Second Cousin , v =  Bart\n",
      "k =  Cousin , v =  Thomas\n",
      "k =  Cousin2 , v =  Ellen\n"
     ]
    }
   ],
   "source": [
    "for k,v in family.items():\n",
    "    print(\"k = \",k,\",\",\"v = \",v)"
   ]
  },
  {
   "cell_type": "code",
   "execution_count": 179,
   "id": "e62e8373-9700-4cf4-9ebc-efe698a6c5e1",
   "metadata": {},
   "outputs": [],
   "source": [
    "x = range(5)"
   ]
  },
  {
   "cell_type": "code",
   "execution_count": 180,
   "id": "5fd3e32d-450a-4f99-9a43-7cafe7610ea9",
   "metadata": {},
   "outputs": [
    {
     "data": {
      "text/plain": [
       "range(0, 5)"
      ]
     },
     "execution_count": 180,
     "metadata": {},
     "output_type": "execute_result"
    }
   ],
   "source": [
    "x"
   ]
  },
  {
   "cell_type": "code",
   "execution_count": 181,
   "id": "602863d4-0789-46c0-a3f5-0d9f4549a17e",
   "metadata": {},
   "outputs": [
    {
     "data": {
      "text/plain": [
       "<range_iterator at 0x24fe7949d70>"
      ]
     },
     "execution_count": 181,
     "metadata": {},
     "output_type": "execute_result"
    }
   ],
   "source": [
    "iter(x)"
   ]
  },
  {
   "cell_type": "code",
   "execution_count": 184,
   "id": "9e6c25fc-e033-4f5a-823a-dd5c7577b99a",
   "metadata": {},
   "outputs": [
    {
     "name": "stdout",
     "output_type": "stream",
     "text": [
      "0\n",
      "1\n",
      "2\n",
      "3\n",
      "4\n"
     ]
    }
   ],
   "source": [
    "for i in x:\n",
    "    print(i)"
   ]
  },
  {
   "cell_type": "code",
   "execution_count": 189,
   "id": "0ac7ceaa-1691-4067-8735-bc9cea57853d",
   "metadata": {},
   "outputs": [],
   "source": [
    "s = range(15)"
   ]
  },
  {
   "cell_type": "code",
   "execution_count": 187,
   "id": "eb748a01-e926-4ea3-a1ae-ff027294c26a",
   "metadata": {},
   "outputs": [],
   "source": [
    "r = range(2,10,2)"
   ]
  },
  {
   "cell_type": "code",
   "execution_count": 188,
   "id": "6bb01f31-3055-413b-a8a3-1a373d7f1576",
   "metadata": {},
   "outputs": [
    {
     "data": {
      "text/plain": [
       "[2, 4, 6, 8]"
      ]
     },
     "execution_count": 188,
     "metadata": {},
     "output_type": "execute_result"
    }
   ],
   "source": [
    "list(r)"
   ]
  },
  {
   "cell_type": "code",
   "execution_count": 190,
   "id": "8029e379-f80f-4339-a2b1-ab870e5b18c5",
   "metadata": {},
   "outputs": [
    {
     "data": {
      "text/plain": [
       "[0, 1, 2, 3, 4, 5, 6, 7, 8, 9, 10, 11, 12, 13, 14]"
      ]
     },
     "execution_count": 190,
     "metadata": {},
     "output_type": "execute_result"
    }
   ],
   "source": [
    "list(s)"
   ]
  },
  {
   "cell_type": "code",
   "execution_count": 191,
   "id": "22e428d3-d11a-4061-b8c2-2a7440d83594",
   "metadata": {},
   "outputs": [
    {
     "data": {
      "text/plain": [
       "'ax'"
      ]
     },
     "execution_count": 191,
     "metadata": {},
     "output_type": "execute_result"
    }
   ],
   "source": [
    "'a' + 'x' if '123'.isdigit() else 'y' + 'b'"
   ]
  },
  {
   "cell_type": "code",
   "execution_count": 192,
   "id": "b5f8756a-f867-430a-beae-1aceec58773b",
   "metadata": {},
   "outputs": [
    {
     "data": {
      "text/plain": [
       "'x'"
      ]
     },
     "execution_count": 192,
     "metadata": {},
     "output_type": "execute_result"
    }
   ],
   "source": [
    "'x' if '123'.isdigit() else 'y'"
   ]
  },
  {
   "cell_type": "code",
   "execution_count": 193,
   "id": "bb9f4b17-7b5a-4c5e-86eb-d88885aeccec",
   "metadata": {},
   "outputs": [
    {
     "data": {
      "text/plain": [
       "True"
      ]
     },
     "execution_count": 193,
     "metadata": {},
     "output_type": "execute_result"
    }
   ],
   "source": [
    "'123'.isdigit()"
   ]
  },
  {
   "cell_type": "code",
   "execution_count": 194,
   "id": "ca843e95-8a32-4692-bae9-9dac5469b431",
   "metadata": {},
   "outputs": [
    {
     "ename": "SyntaxError",
     "evalue": "invalid syntax (3154522154.py, line 1)",
     "output_type": "error",
     "traceback": [
      "\u001b[1;36m  Input \u001b[1;32mIn [194]\u001b[1;36m\u001b[0m\n\u001b[1;33m    123.isdigit()\u001b[0m\n\u001b[1;37m        ^\u001b[0m\n\u001b[1;31mSyntaxError\u001b[0m\u001b[1;31m:\u001b[0m invalid syntax\n"
     ]
    }
   ],
   "source": [
    "123.isdigit()"
   ]
  },
  {
   "cell_type": "code",
   "execution_count": null,
   "id": "909a2ad4-a371-487e-9ef8-deee21d9b638",
   "metadata": {},
   "outputs": [],
   "source": []
  }
 ],
 "metadata": {
  "kernelspec": {
   "display_name": "Python 3 (ipykernel)",
   "language": "python",
   "name": "python3"
  },
  "language_info": {
   "codemirror_mode": {
    "name": "ipython",
    "version": 3
   },
   "file_extension": ".py",
   "mimetype": "text/x-python",
   "name": "python",
   "nbconvert_exporter": "python",
   "pygments_lexer": "ipython3",
   "version": "3.9.12"
  }
 },
 "nbformat": 4,
 "nbformat_minor": 5
}
