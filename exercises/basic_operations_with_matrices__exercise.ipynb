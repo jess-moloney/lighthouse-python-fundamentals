{
 "cells": [
  {
   "cell_type": "markdown",
   "metadata": {
    "ExecuteTime": {
     "end_time": "2020-01-30T08:49:56.471556Z",
     "start_time": "2020-01-30T08:49:56.467072Z"
    }
   },
   "source": [
    "**TASK:** import numpy"
   ]
  },
  {
   "cell_type": "code",
   "execution_count": 1,
   "metadata": {},
   "outputs": [],
   "source": [
    "import numpy as np"
   ]
  },
  {
   "cell_type": "markdown",
   "metadata": {
    "ExecuteTime": {
     "end_time": "2020-01-30T08:49:56.803505Z",
     "start_time": "2020-01-30T08:49:56.790390Z"
    }
   },
   "source": [
    "**TASK:** define vector 'x' with three coordinates"
   ]
  },
  {
   "cell_type": "code",
   "execution_count": 2,
   "metadata": {},
   "outputs": [],
   "source": [
    "x = np.array([1,2,3])"
   ]
  },
  {
   "cell_type": "markdown",
   "metadata": {
    "ExecuteTime": {
     "end_time": "2020-01-30T08:49:57.155981Z",
     "start_time": "2020-01-30T08:49:57.142948Z"
    }
   },
   "source": [
    "**TASK:** define (2 x 2) matrix 'A' \n"
   ]
  },
  {
   "cell_type": "code",
   "execution_count": 16,
   "metadata": {},
   "outputs": [
    {
     "data": {
      "text/plain": [
       "array([[1, 2],\n",
       "       [3, 4]])"
      ]
     },
     "execution_count": 16,
     "metadata": {},
     "output_type": "execute_result"
    }
   ],
   "source": [
    "A = np.array([[1,2],[3,4]])\n",
    "A"
   ]
  },
  {
   "cell_type": "markdown",
   "metadata": {
    "ExecuteTime": {
     "end_time": "2020-01-30T08:49:57.628250Z",
     "start_time": "2020-01-30T08:49:57.618326Z"
    }
   },
   "source": [
    "**TASK:** define (2 x 2) matrix 'B'"
   ]
  },
  {
   "cell_type": "code",
   "execution_count": 17,
   "metadata": {},
   "outputs": [
    {
     "data": {
      "text/plain": [
       "array([[5, 6],\n",
       "       [7, 8]])"
      ]
     },
     "execution_count": 17,
     "metadata": {},
     "output_type": "execute_result"
    }
   ],
   "source": [
    "B = np.array([[5,6],[7,8]])\n",
    "B"
   ]
  },
  {
   "cell_type": "markdown",
   "metadata": {
    "ExecuteTime": {
     "end_time": "2020-01-30T08:49:57.644266Z",
     "start_time": "2020-01-30T08:49:57.633733Z"
    }
   },
   "source": [
    "**TASK:** check the type of 'x'"
   ]
  },
  {
   "cell_type": "code",
   "execution_count": 5,
   "metadata": {},
   "outputs": [
    {
     "data": {
      "text/plain": [
       "numpy.ndarray"
      ]
     },
     "execution_count": 5,
     "metadata": {},
     "output_type": "execute_result"
    }
   ],
   "source": [
    "type(x)"
   ]
  },
  {
   "cell_type": "markdown",
   "metadata": {
    "ExecuteTime": {
     "end_time": "2020-01-30T08:49:58.239708Z",
     "start_time": "2020-01-30T08:49:58.231962Z"
    }
   },
   "source": [
    "**TASK:** check the type of 'A'"
   ]
  },
  {
   "cell_type": "code",
   "execution_count": 6,
   "metadata": {},
   "outputs": [
    {
     "data": {
      "text/plain": [
       "numpy.ndarray"
      ]
     },
     "execution_count": 6,
     "metadata": {},
     "output_type": "execute_result"
    }
   ],
   "source": [
    "type(A)"
   ]
  },
  {
   "cell_type": "markdown",
   "metadata": {
    "ExecuteTime": {
     "end_time": "2020-01-30T08:49:58.780503Z",
     "start_time": "2020-01-30T08:49:58.771843Z"
    }
   },
   "source": [
    "**TASK:**  check the shape of 'x'\n"
   ]
  },
  {
   "cell_type": "code",
   "execution_count": 9,
   "metadata": {},
   "outputs": [
    {
     "data": {
      "text/plain": [
       "(3,)"
      ]
     },
     "execution_count": 9,
     "metadata": {},
     "output_type": "execute_result"
    }
   ],
   "source": [
    "x.shape"
   ]
  },
  {
   "cell_type": "markdown",
   "metadata": {
    "ExecuteTime": {
     "end_time": "2020-01-30T08:49:59.209544Z",
     "start_time": "2020-01-30T08:49:59.197955Z"
    }
   },
   "source": [
    "**TASK:** check the type of 'A'"
   ]
  },
  {
   "cell_type": "code",
   "execution_count": 10,
   "metadata": {},
   "outputs": [
    {
     "data": {
      "text/plain": [
       "(2, 2)"
      ]
     },
     "execution_count": 10,
     "metadata": {},
     "output_type": "execute_result"
    }
   ],
   "source": [
    "A.shape"
   ]
  },
  {
   "cell_type": "markdown",
   "metadata": {},
   "source": [
    "**TASK:** "
   ]
  },
  {
   "cell_type": "code",
   "execution_count": null,
   "metadata": {
    "ExecuteTime": {
     "end_time": "2020-01-30T08:49:59.477768Z",
     "start_time": "2020-01-30T08:49:59.472858Z"
    }
   },
   "outputs": [],
   "source": [
    "\"\"\"\n",
    "Define function 'have_same_shape' which checks if two arrays have same shape.\n",
    "\n",
    "PARAMS:\n",
    "    array_1 (numpy.ndarray) - first array\n",
    "    array_2 (numpy.ndarray) - second array\n",
    "RETURN:\n",
    "    True - if arrays have same shape\n",
    "    False - if arrays do not have same shape\n",
    "\n",
    "Also print 'Arrays must have same shape!' when returning False\n",
    "\"\"\""
   ]
  },
  {
   "cell_type": "code",
   "execution_count": 11,
   "metadata": {},
   "outputs": [],
   "source": [
    "def have_same_shape(array_1, array_2):\n",
    "    if array_1.shape == array_2.shape:\n",
    "        return True\n",
    "    else:\n",
    "        print('Arrays must have same shape!')\n",
    "        return False"
   ]
  },
  {
   "cell_type": "code",
   "execution_count": null,
   "metadata": {},
   "outputs": [],
   "source": []
  },
  {
   "cell_type": "markdown",
   "metadata": {
    "ExecuteTime": {
     "end_time": "2020-01-30T08:49:59.773624Z",
     "start_time": "2020-01-30T08:49:59.764633Z"
    }
   },
   "source": [
    "**TASK:** call the function 'have_same_shape' with matrix 'A' and vector 'x' as inputs"
   ]
  },
  {
   "cell_type": "code",
   "execution_count": 12,
   "metadata": {},
   "outputs": [
    {
     "name": "stdout",
     "output_type": "stream",
     "text": [
      "Arrays must have same shape!\n"
     ]
    },
    {
     "data": {
      "text/plain": [
       "False"
      ]
     },
     "execution_count": 12,
     "metadata": {},
     "output_type": "execute_result"
    }
   ],
   "source": [
    "have_same_shape(A, x)"
   ]
  },
  {
   "cell_type": "markdown",
   "metadata": {
    "ExecuteTime": {
     "end_time": "2020-01-30T08:50:00.108597Z",
     "start_time": "2020-01-30T08:50:00.099924Z"
    }
   },
   "source": [
    "**TASK:**  call the function 'have_same_shape' with matrix 'A' and matrix 'B' as inputs"
   ]
  },
  {
   "cell_type": "code",
   "execution_count": 13,
   "metadata": {},
   "outputs": [
    {
     "data": {
      "text/plain": [
       "True"
      ]
     },
     "execution_count": 13,
     "metadata": {},
     "output_type": "execute_result"
    }
   ],
   "source": [
    "have_same_shape(A, B)"
   ]
  },
  {
   "cell_type": "markdown",
   "metadata": {},
   "source": [
    "**TASK:** "
   ]
  },
  {
   "cell_type": "code",
   "execution_count": null,
   "metadata": {
    "ExecuteTime": {
     "end_time": "2020-01-30T08:50:00.453186Z",
     "start_time": "2020-01-30T08:50:00.445491Z"
    }
   },
   "outputs": [],
   "source": [
    "\"\"\"\n",
    "Define function 'matrix_addition' which perform matrix addition value by value.\n",
    "\n",
    "PARAMS:\n",
    "    A (numpy.ndarray) - first array\n",
    "    B (numpy.ndarray) - second array\n",
    "RETURN:\n",
    "    C (numpy.ndarray) - new A+B array\n",
    "\n",
    "In this task do not consider broadcasting.\n",
    "Do not forget to check arrays shapes (you can use 'have_same_shape' function defined before)\n",
    "\n",
    "\"\"\"\n"
   ]
  },
  {
   "cell_type": "code",
   "execution_count": 14,
   "metadata": {},
   "outputs": [],
   "source": [
    "def matrix_addition(A, B):\n",
    "    if have_same_shape(A,B):\n",
    "        C = A+B\n",
    "        return C"
   ]
  },
  {
   "cell_type": "markdown",
   "metadata": {
    "ExecuteTime": {
     "end_time": "2020-01-30T08:50:00.926629Z",
     "start_time": "2020-01-30T08:50:00.914790Z"
    }
   },
   "source": [
    "**TASK:** call the function 'matrix_addition' with matrix 'A' and matrix 'B' as inputs"
   ]
  },
  {
   "cell_type": "code",
   "execution_count": 15,
   "metadata": {},
   "outputs": [
    {
     "data": {
      "text/plain": [
       "array([[ 6,  8],\n",
       "       [10, 12]])"
      ]
     },
     "execution_count": 15,
     "metadata": {},
     "output_type": "execute_result"
    }
   ],
   "source": [
    "matrix_addition(A, B)"
   ]
  },
  {
   "cell_type": "markdown",
   "metadata": {},
   "source": [
    "**TASK:** "
   ]
  },
  {
   "cell_type": "code",
   "execution_count": 1,
   "metadata": {
    "ExecuteTime": {
     "end_time": "2020-01-30T08:50:01.238605Z",
     "start_time": "2020-01-30T08:50:01.231201Z"
    },
    "tags": []
   },
   "outputs": [
    {
     "data": {
      "text/plain": [
       "\"\\nDefine 'multiple_matrix_adition' function that takes list of arrays as the input and perform array addition\\n\\nPARAMS:\\n   lst_of_arr (list) - list of numpy.ndarrays\\nRETURN:\\n    NEW_ARRAY (numpy.ndarray) - new array\\n\\nUse 'matrix_addition' function defined before.\\n\""
      ]
     },
     "execution_count": 1,
     "metadata": {},
     "output_type": "execute_result"
    }
   ],
   "source": [
    "\"\"\"\n",
    "Define 'multiple_matrix_adition' function that takes list of arrays as the input and perform array addition\n",
    "\n",
    "PARAMS:\n",
    "   lst_of_arr (list) - list of numpy.ndarrays\n",
    "RETURN:\n",
    "    NEW_ARRAY (numpy.ndarray) - new array\n",
    "\n",
    "Use 'matrix_addition' function defined before.\n",
    "\"\"\""
   ]
  },
  {
   "cell_type": "code",
   "execution_count": 37,
   "metadata": {},
   "outputs": [
    {
     "data": {
      "text/plain": [
       "array([[0., 0.],\n",
       "       [0., 0.]])"
      ]
     },
     "execution_count": 37,
     "metadata": {},
     "output_type": "execute_result"
    }
   ],
   "source": [
    "lst_of_arr = [A,A,B,B,B]\n",
    "lst_of_arr[0].shape\n",
    "np.zeros((2,2))"
   ]
  },
  {
   "cell_type": "code",
   "execution_count": 40,
   "metadata": {},
   "outputs": [],
   "source": [
    "def multiple_matrix_addition(lst_of_arr):\n",
    "    NEW_ARRAY = np.zeros(lst_of_arr[0].shape)\n",
    "    for arr in lst_of_arr:\n",
    "        NEW_ARRAY = matrix_addition(NEW_ARRAY, arr)       \n",
    "    return NEW_ARRAY"
   ]
  },
  {
   "cell_type": "markdown",
   "metadata": {
    "ExecuteTime": {
     "end_time": "2020-01-30T08:50:01.515057Z",
     "start_time": "2020-01-30T08:50:01.506002Z"
    }
   },
   "source": [
    "**TASK:** call the function 'multiple_matrix_addition' with matrix [A,A,B,B,B] as input\n"
   ]
  },
  {
   "cell_type": "code",
   "execution_count": 41,
   "metadata": {},
   "outputs": [
    {
     "data": {
      "text/plain": [
       "array([[17., 22.],\n",
       "       [27., 32.]])"
      ]
     },
     "execution_count": 41,
     "metadata": {},
     "output_type": "execute_result"
    }
   ],
   "source": [
    "multiple_matrix_addition([A,A,B,B,B])"
   ]
  },
  {
   "cell_type": "markdown",
   "metadata": {},
   "source": [
    "**TASK:** "
   ]
  },
  {
   "cell_type": "code",
   "execution_count": null,
   "metadata": {
    "ExecuteTime": {
     "end_time": "2020-01-30T08:50:01.934418Z",
     "start_time": "2020-01-30T08:50:01.921444Z"
    }
   },
   "outputs": [],
   "source": [
    "\"\"\"\n",
    "Define function 'can_multiply' that checks if two arrays (matrices) can be multiplied\n",
    "\n",
    "PARAMS:\n",
    "   array_a (numpy.ndarray) - first array\n",
    "   array_b (numpy.ndarray) - second array\n",
    "RETURN:\n",
    "    True - if arrays can be multiplied, also print the shape of the new array\n",
    "    False - if arrays can not be multiplied, also print 'Matrices can not be multiplied.'\n",
    "    \n",
    "\"\"\""
   ]
  },
  {
   "cell_type": "code",
   "execution_count": 42,
   "metadata": {
    "tags": []
   },
   "outputs": [
    {
     "data": {
      "text/plain": [
       "array([[1., 1., 1.],\n",
       "       [1., 1., 1.]])"
      ]
     },
     "execution_count": 42,
     "metadata": {},
     "output_type": "execute_result"
    }
   ],
   "source": [
    "x = np.ones((2,3))\n",
    "x"
   ]
  },
  {
   "cell_type": "code",
   "execution_count": 43,
   "metadata": {},
   "outputs": [
    {
     "data": {
      "text/plain": [
       "array([[0., 0., 0., 0., 0.],\n",
       "       [0., 0., 0., 0., 0.],\n",
       "       [0., 0., 0., 0., 0.],\n",
       "       [0., 0., 0., 0., 0.],\n",
       "       [0., 0., 0., 0., 0.]])"
      ]
     },
     "execution_count": 43,
     "metadata": {},
     "output_type": "execute_result"
    }
   ],
   "source": [
    "y = np.zeros((5,5))\n",
    "y"
   ]
  },
  {
   "cell_type": "code",
   "execution_count": 57,
   "metadata": {},
   "outputs": [
    {
     "data": {
      "text/plain": [
       "3"
      ]
     },
     "execution_count": 57,
     "metadata": {},
     "output_type": "execute_result"
    }
   ],
   "source": [
    "numOfColumns = np.size(x,1)\n",
    "numOfColumns"
   ]
  },
  {
   "cell_type": "code",
   "execution_count": 63,
   "metadata": {},
   "outputs": [],
   "source": [
    "def can_multiply(array_a, array_b):\n",
    "    if np.size(array_a,1)==np.size(array_b,0):\n",
    "        print(np.matmul(array_a,array_b))\n",
    "        return True\n",
    "    else:\n",
    "        print('Matrices can not be multiplied.')\n",
    "        return False\n",
    "        "
   ]
  },
  {
   "cell_type": "code",
   "execution_count": 64,
   "metadata": {},
   "outputs": [
    {
     "name": "stdout",
     "output_type": "stream",
     "text": [
      "Matrices can not be multiplied.\n"
     ]
    },
    {
     "data": {
      "text/plain": [
       "False"
      ]
     },
     "execution_count": 64,
     "metadata": {},
     "output_type": "execute_result"
    }
   ],
   "source": [
    "can_multiply(x,y)"
   ]
  },
  {
   "cell_type": "markdown",
   "metadata": {
    "ExecuteTime": {
     "end_time": "2020-01-30T08:50:02.291084Z",
     "start_time": "2020-01-30T08:50:02.280835Z"
    }
   },
   "source": [
    "**TASK:** call the function 'can_multiply' with matrix 'A' and 'B' as inputs"
   ]
  },
  {
   "cell_type": "code",
   "execution_count": 65,
   "metadata": {},
   "outputs": [
    {
     "name": "stdout",
     "output_type": "stream",
     "text": [
      "[[19 22]\n",
      " [43 50]]\n"
     ]
    },
    {
     "data": {
      "text/plain": [
       "True"
      ]
     },
     "execution_count": 65,
     "metadata": {},
     "output_type": "execute_result"
    }
   ],
   "source": [
    "can_multiply(A,B)"
   ]
  },
  {
   "cell_type": "code",
   "execution_count": 66,
   "metadata": {},
   "outputs": [
    {
     "data": {
      "text/plain": [
       "array([[1, 2],\n",
       "       [3, 4]])"
      ]
     },
     "execution_count": 66,
     "metadata": {},
     "output_type": "execute_result"
    }
   ],
   "source": [
    "A"
   ]
  },
  {
   "cell_type": "code",
   "execution_count": 67,
   "metadata": {},
   "outputs": [
    {
     "data": {
      "text/plain": [
       "array([[5, 6],\n",
       "       [7, 8]])"
      ]
     },
     "execution_count": 67,
     "metadata": {},
     "output_type": "execute_result"
    }
   ],
   "source": [
    "B"
   ]
  },
  {
   "cell_type": "code",
   "execution_count": null,
   "metadata": {},
   "outputs": [],
   "source": []
  },
  {
   "cell_type": "markdown",
   "metadata": {
    "ExecuteTime": {
     "end_time": "2020-01-30T08:50:02.590166Z",
     "start_time": "2020-01-30T08:50:02.583812Z"
    }
   },
   "source": [
    "**TASK:**  define matrix (3 x 2) matrix C"
   ]
  },
  {
   "cell_type": "code",
   "execution_count": 71,
   "metadata": {},
   "outputs": [
    {
     "data": {
      "text/plain": [
       "array([[1., 1.],\n",
       "       [1., 1.],\n",
       "       [1., 1.]])"
      ]
     },
     "execution_count": 71,
     "metadata": {},
     "output_type": "execute_result"
    }
   ],
   "source": [
    "C = np.ones((3,2))\n",
    "C"
   ]
  },
  {
   "cell_type": "markdown",
   "metadata": {
    "ExecuteTime": {
     "end_time": "2020-01-30T08:50:02.853507Z",
     "start_time": "2020-01-30T08:50:02.841481Z"
    }
   },
   "source": [
    "**TASK:**  call the function 'can_multiply' with matrix 'A' and 'C' as inputs"
   ]
  },
  {
   "cell_type": "code",
   "execution_count": 69,
   "metadata": {},
   "outputs": [
    {
     "name": "stdout",
     "output_type": "stream",
     "text": [
      "Matrices can not be multiplied.\n"
     ]
    },
    {
     "data": {
      "text/plain": [
       "False"
      ]
     },
     "execution_count": 69,
     "metadata": {},
     "output_type": "execute_result"
    }
   ],
   "source": [
    "can_multiply(A,C)"
   ]
  },
  {
   "cell_type": "markdown",
   "metadata": {
    "ExecuteTime": {
     "end_time": "2020-01-30T08:50:03.194987Z",
     "start_time": "2020-01-30T08:50:03.188313Z"
    }
   },
   "source": [
    "**TASK:**  call the function 'can_multiply' with matrix 'C' and 'A' as inputs (now C,A not A,C). Do you know why is the result different?"
   ]
  },
  {
   "cell_type": "code",
   "execution_count": 70,
   "metadata": {},
   "outputs": [
    {
     "name": "stdout",
     "output_type": "stream",
     "text": [
      "[[4. 6.]\n",
      " [4. 6.]\n",
      " [4. 6.]]\n"
     ]
    },
    {
     "data": {
      "text/plain": [
       "True"
      ]
     },
     "execution_count": 70,
     "metadata": {},
     "output_type": "execute_result"
    }
   ],
   "source": [
    "can_multiply(C,A)"
   ]
  },
  {
   "cell_type": "markdown",
   "metadata": {},
   "source": [
    "**TASK:** "
   ]
  },
  {
   "cell_type": "code",
   "execution_count": null,
   "metadata": {
    "ExecuteTime": {
     "end_time": "2020-01-30T08:50:03.460761Z",
     "start_time": "2020-01-30T08:50:03.453042Z"
    }
   },
   "outputs": [],
   "source": [
    "\"\"\"\n",
    "Define function 'matrix_multiplication' that multiply two numpy.ndarrays\n",
    "\n",
    "PARAMS:\n",
    "   array_a (numpy.ndarray) - first array\n",
    "   array_b (numpy.ndarray) - second array\n",
    "RETURN:\n",
    "    NEW_ARRAY (numpy.ndarray) - new A * B array\n",
    "    \n",
    "Do not forget to check if two matrices can be multiplied.\n",
    "\n",
    "\"\"\""
   ]
  },
  {
   "cell_type": "code",
   "execution_count": 77,
   "metadata": {},
   "outputs": [],
   "source": [
    "def matrix_multiplication(array_a, array_b):\n",
    "    if can_multiply(array_a, array_b) == True:\n",
    "        return np.matmul(array_a, array_b)"
   ]
  },
  {
   "cell_type": "markdown",
   "metadata": {
    "ExecuteTime": {
     "end_time": "2020-01-30T08:50:03.899011Z",
     "start_time": "2020-01-30T08:50:03.886562Z"
    }
   },
   "source": [
    "**TASK:**  call the function 'matrix_multiplication' with matrix 'C' and 'B' \n"
   ]
  },
  {
   "cell_type": "code",
   "execution_count": 78,
   "metadata": {},
   "outputs": [
    {
     "name": "stdout",
     "output_type": "stream",
     "text": [
      "[[12. 14.]\n",
      " [12. 14.]\n",
      " [12. 14.]]\n"
     ]
    },
    {
     "data": {
      "text/plain": [
       "array([[12., 14.],\n",
       "       [12., 14.],\n",
       "       [12., 14.]])"
      ]
     },
     "execution_count": 78,
     "metadata": {},
     "output_type": "execute_result"
    }
   ],
   "source": [
    "matrix_multiplication(C,B)"
   ]
  },
  {
   "cell_type": "markdown",
   "metadata": {
    "ExecuteTime": {
     "end_time": "2020-01-30T08:50:04.265728Z",
     "start_time": "2020-01-30T08:50:04.258942Z"
    }
   },
   "source": [
    "**TASK:** call the function 'matrix_multiplication' with matrix 'A' and 'C' "
   ]
  },
  {
   "cell_type": "code",
   "execution_count": 79,
   "metadata": {},
   "outputs": [
    {
     "name": "stdout",
     "output_type": "stream",
     "text": [
      "Matrices can not be multiplied.\n"
     ]
    }
   ],
   "source": [
    "matrix_multiplication(A,C)"
   ]
  },
  {
   "cell_type": "code",
   "execution_count": null,
   "metadata": {},
   "outputs": [],
   "source": []
  },
  {
   "cell_type": "code",
   "execution_count": null,
   "metadata": {},
   "outputs": [],
   "source": []
  }
 ],
 "metadata": {
  "kernelspec": {
   "display_name": "Python 3 (ipykernel)",
   "language": "python",
   "name": "python3"
  },
  "language_info": {
   "codemirror_mode": {
    "name": "ipython",
    "version": 3
   },
   "file_extension": ".py",
   "mimetype": "text/x-python",
   "name": "python",
   "nbconvert_exporter": "python",
   "pygments_lexer": "ipython3",
   "version": "3.9.12"
  },
  "toc": {
   "base_numbering": 1,
   "nav_menu": {},
   "number_sections": true,
   "sideBar": true,
   "skip_h1_title": false,
   "title_cell": "Table of Contents",
   "title_sidebar": "Contents",
   "toc_cell": false,
   "toc_position": {},
   "toc_section_display": true,
   "toc_window_display": true
  },
  "varInspector": {
   "cols": {
    "lenName": 16,
    "lenType": 16,
    "lenVar": 40
   },
   "kernels_config": {
    "python": {
     "delete_cmd_postfix": "",
     "delete_cmd_prefix": "del ",
     "library": "var_list.py",
     "varRefreshCmd": "print(var_dic_list())"
    },
    "r": {
     "delete_cmd_postfix": ") ",
     "delete_cmd_prefix": "rm(",
     "library": "var_list.r",
     "varRefreshCmd": "cat(var_dic_list()) "
    }
   },
   "types_to_exclude": [
    "module",
    "function",
    "builtin_function_or_method",
    "instance",
    "_Feature"
   ],
   "window_display": false
  }
 },
 "nbformat": 4,
 "nbformat_minor": 4
}
