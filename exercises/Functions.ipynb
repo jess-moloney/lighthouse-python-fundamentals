{
 "cells": [
  {
   "cell_type": "code",
   "execution_count": 1,
   "id": "ef66bfdd-9a26-42d3-9972-170513f0ede9",
   "metadata": {},
   "outputs": [],
   "source": [
    "def hello_func():\n",
    "    pass"
   ]
  },
  {
   "cell_type": "code",
   "execution_count": 2,
   "id": "6a245b16-b22b-46ea-ac9f-c30a46e28425",
   "metadata": {},
   "outputs": [],
   "source": [
    "hello_func()"
   ]
  },
  {
   "cell_type": "code",
   "execution_count": 3,
   "id": "e9b2bbe3-b5f9-4214-a21a-c1a51068721c",
   "metadata": {},
   "outputs": [
    {
     "name": "stdout",
     "output_type": "stream",
     "text": [
      "<function hello_func at 0x000001CC33851820>\n"
     ]
    }
   ],
   "source": [
    "print(hello_func)"
   ]
  },
  {
   "cell_type": "code",
   "execution_count": 4,
   "id": "ac44e1e0-4635-4575-8779-ad127a37b2e7",
   "metadata": {},
   "outputs": [
    {
     "name": "stdout",
     "output_type": "stream",
     "text": [
      "None\n"
     ]
    }
   ],
   "source": [
    "print(hello_func())"
   ]
  },
  {
   "cell_type": "code",
   "execution_count": 7,
   "id": "c5d7389e-b470-4ae2-ac90-e75e15001030",
   "metadata": {},
   "outputs": [
    {
     "name": "stdout",
     "output_type": "stream",
     "text": [
      "Hello Function.\n"
     ]
    }
   ],
   "source": [
    "def hello_func():\n",
    "    print('Hello Function.')\n",
    "hello_func()"
   ]
  },
  {
   "cell_type": "code",
   "execution_count": 8,
   "id": "89beee64-75f4-4ae0-9cd8-9a3569ebfabe",
   "metadata": {},
   "outputs": [
    {
     "name": "stdout",
     "output_type": "stream",
     "text": [
      "Hello Function.\n",
      "Hello Function.\n",
      "Hello Function.\n",
      "Hello Function.\n"
     ]
    }
   ],
   "source": [
    "hello_func()\n",
    "hello_func()\n",
    "hello_func()\n",
    "hello_func()"
   ]
  },
  {
   "cell_type": "code",
   "execution_count": 10,
   "id": "fdac8a12-171e-40d2-81f5-154e948841cc",
   "metadata": {},
   "outputs": [
    {
     "data": {
      "text/plain": [
       "'Hello Function.'"
      ]
     },
     "execution_count": 10,
     "metadata": {},
     "output_type": "execute_result"
    }
   ],
   "source": [
    "def hello_func():\n",
    "    return 'Hello Function.'\n",
    "hello_func()"
   ]
  },
  {
   "cell_type": "code",
   "execution_count": 12,
   "id": "741d10ae-f201-4ea9-83ef-a99c61d7e44c",
   "metadata": {},
   "outputs": [
    {
     "name": "stdout",
     "output_type": "stream",
     "text": [
      "HELLO FUNCTION.\n"
     ]
    }
   ],
   "source": [
    "print(hello_func().upper())"
   ]
  },
  {
   "cell_type": "code",
   "execution_count": 23,
   "id": "d7302d17-bf2a-41b1-a260-3fc0844f8fab",
   "metadata": {},
   "outputs": [],
   "source": [
    "def hello_func(greeting,name='You'):\n",
    "    return'{}, {}'.format(greeting, name)"
   ]
  },
  {
   "cell_type": "code",
   "execution_count": 25,
   "id": "2fba7f46-944f-48fc-a196-4ff4ce2468da",
   "metadata": {},
   "outputs": [
    {
     "name": "stdout",
     "output_type": "stream",
     "text": [
      "Hi, Corey\n"
     ]
    }
   ],
   "source": [
    "print(hello_func('Hi' , name= 'Corey'))"
   ]
  },
  {
   "cell_type": "code",
   "execution_count": 26,
   "id": "62fae0d8-8ca6-4617-988b-5a4444edea00",
   "metadata": {},
   "outputs": [
    {
     "name": "stdout",
     "output_type": "stream",
     "text": [
      "('math', 'art')\n",
      "{'name': 'John', 'age': 22}\n"
     ]
    }
   ],
   "source": [
    "def student_info(*args, **kwargs):\n",
    "    print(args)\n",
    "    print(kwargs)\n",
    "student_info('math','art',name='John',age=22)"
   ]
  },
  {
   "cell_type": "code",
   "execution_count": 27,
   "id": "aa75b873-20fc-4737-9cbe-31b2feac4d70",
   "metadata": {},
   "outputs": [
    {
     "name": "stdout",
     "output_type": "stream",
     "text": [
      "(['Math', 'Art'], {'name': 'John', 'age': 22})\n",
      "{}\n"
     ]
    }
   ],
   "source": [
    "courses = ['Math','Art']\n",
    "info = {'name':'John','age':22}\n",
    "\n",
    "student_info(courses, info)"
   ]
  },
  {
   "cell_type": "code",
   "execution_count": 28,
   "id": "0165f9d4-1448-41d2-b237-7c4390b76828",
   "metadata": {},
   "outputs": [
    {
     "name": "stdout",
     "output_type": "stream",
     "text": [
      "('Math', 'Art')\n",
      "{'name': 'John', 'age': 22}\n"
     ]
    }
   ],
   "source": [
    "student_info(*courses,**info)"
   ]
  },
  {
   "cell_type": "code",
   "execution_count": 30,
   "id": "8ce65453-d2b0-4515-90bb-6a87a1d781ec",
   "metadata": {},
   "outputs": [
    {
     "data": {
      "text/plain": [
       "13"
      ]
     },
     "execution_count": 30,
     "metadata": {},
     "output_type": "execute_result"
    }
   ],
   "source": [
    "month_days = [0,31,28,31,30,31,30,31,31,30, 31,30,31]\n",
    "len(month_days)"
   ]
  },
  {
   "cell_type": "code",
   "execution_count": 31,
   "id": "862c4cfe-0048-4709-9624-ddda29ec5488",
   "metadata": {},
   "outputs": [],
   "source": [
    "def is_leap(year):\n",
    "    return year % 4 == 0 and (year % 100 != 0 or year % 400 == 0)"
   ]
  },
  {
   "cell_type": "code",
   "execution_count": 32,
   "id": "0e19606d-c0bd-428c-98a8-392501135845",
   "metadata": {},
   "outputs": [],
   "source": [
    "def days_in_month(year,month):\n",
    "    if not 1 <= month <= 12:\n",
    "        return 'Invalid Month'\n",
    "    if month ==2 and is_leap(year):\n",
    "        return 29\n",
    "    return month_days[month]"
   ]
  },
  {
   "cell_type": "code",
   "execution_count": 34,
   "id": "7f435090-e633-4df9-8fe8-1807b53bcf32",
   "metadata": {},
   "outputs": [
    {
     "name": "stdout",
     "output_type": "stream",
     "text": [
      "True\n"
     ]
    }
   ],
   "source": [
    "print(is_leap(2020))"
   ]
  },
  {
   "cell_type": "code",
   "execution_count": 36,
   "id": "e860b1df-6505-4130-be78-ab3d431acf6f",
   "metadata": {},
   "outputs": [
    {
     "name": "stdout",
     "output_type": "stream",
     "text": [
      "28\n"
     ]
    }
   ],
   "source": [
    "print(days_in_month(2017, 2))"
   ]
  },
  {
   "cell_type": "code",
   "execution_count": null,
   "id": "3377e932-fbf4-476a-96fd-b783d212c10c",
   "metadata": {},
   "outputs": [],
   "source": []
  }
 ],
 "metadata": {
  "kernelspec": {
   "display_name": "Python 3 (ipykernel)",
   "language": "python",
   "name": "python3"
  },
  "language_info": {
   "codemirror_mode": {
    "name": "ipython",
    "version": 3
   },
   "file_extension": ".py",
   "mimetype": "text/x-python",
   "name": "python",
   "nbconvert_exporter": "python",
   "pygments_lexer": "ipython3",
   "version": "3.9.12"
  }
 },
 "nbformat": 4,
 "nbformat_minor": 5
}
